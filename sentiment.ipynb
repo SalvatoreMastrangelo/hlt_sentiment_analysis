{
 "cells": [
  {
   "cell_type": "markdown",
   "id": "21758aa2",
   "metadata": {},
   "source": [
    "# Workspace Setup"
   ]
  },
  {
   "cell_type": "markdown",
   "id": "184ac76d",
   "metadata": {},
   "source": [
    "## Some Imports"
   ]
  },
  {
   "cell_type": "code",
   "execution_count": 1,
   "id": "46437eab",
   "metadata": {},
   "outputs": [
    {
     "name": "stderr",
     "output_type": "stream",
     "text": [
      "\n",
      "A module that was compiled using NumPy 1.x cannot be run in\n",
      "NumPy 2.2.6 as it may crash. To support both 1.x and 2.x\n",
      "versions of NumPy, modules must be compiled with NumPy 2.0.\n",
      "Some module may need to rebuild instead e.g. with 'pybind11>=2.12'.\n",
      "\n",
      "If you are a user of the module, the easiest solution will be to\n",
      "downgrade to 'numpy<2' or try to upgrade the affected module.\n",
      "We expect that some modules will need time to support NumPy 2.\n",
      "\n",
      "Traceback (most recent call last):  File \"/usr/lib/python3.10/runpy.py\", line 196, in _run_module_as_main\n",
      "    return _run_code(code, main_globals, None,\n",
      "  File \"/usr/lib/python3.10/runpy.py\", line 86, in _run_code\n",
      "    exec(code, run_globals)\n",
      "  File \"/home/salvatore/.local/lib/python3.10/site-packages/ipykernel_launcher.py\", line 18, in <module>\n",
      "    app.launch_new_instance()\n",
      "  File \"/home/salvatore/.local/lib/python3.10/site-packages/traitlets/config/application.py\", line 1075, in launch_instance\n",
      "    app.start()\n",
      "  File \"/home/salvatore/.local/lib/python3.10/site-packages/ipykernel/kernelapp.py\", line 739, in start\n",
      "    self.io_loop.start()\n",
      "  File \"/home/salvatore/.local/lib/python3.10/site-packages/tornado/platform/asyncio.py\", line 205, in start\n",
      "    self.asyncio_loop.run_forever()\n",
      "  File \"/usr/lib/python3.10/asyncio/base_events.py\", line 603, in run_forever\n",
      "    self._run_once()\n",
      "  File \"/usr/lib/python3.10/asyncio/base_events.py\", line 1909, in _run_once\n",
      "    handle._run()\n",
      "  File \"/usr/lib/python3.10/asyncio/events.py\", line 80, in _run\n",
      "    self._context.run(self._callback, *self._args)\n",
      "  File \"/home/salvatore/.local/lib/python3.10/site-packages/ipykernel/kernelbase.py\", line 545, in dispatch_queue\n",
      "    await self.process_one()\n",
      "  File \"/home/salvatore/.local/lib/python3.10/site-packages/ipykernel/kernelbase.py\", line 534, in process_one\n",
      "    await dispatch(*args)\n",
      "  File \"/home/salvatore/.local/lib/python3.10/site-packages/ipykernel/kernelbase.py\", line 437, in dispatch_shell\n",
      "    await result\n",
      "  File \"/home/salvatore/.local/lib/python3.10/site-packages/ipykernel/ipkernel.py\", line 362, in execute_request\n",
      "    await super().execute_request(stream, ident, parent)\n",
      "  File \"/home/salvatore/.local/lib/python3.10/site-packages/ipykernel/kernelbase.py\", line 778, in execute_request\n",
      "    reply_content = await reply_content\n",
      "  File \"/home/salvatore/.local/lib/python3.10/site-packages/ipykernel/ipkernel.py\", line 449, in do_execute\n",
      "    res = shell.run_cell(\n",
      "  File \"/home/salvatore/.local/lib/python3.10/site-packages/ipykernel/zmqshell.py\", line 549, in run_cell\n",
      "    return super().run_cell(*args, **kwargs)\n",
      "  File \"/home/salvatore/.local/lib/python3.10/site-packages/IPython/core/interactiveshell.py\", line 3075, in run_cell\n",
      "    result = self._run_cell(\n",
      "  File \"/home/salvatore/.local/lib/python3.10/site-packages/IPython/core/interactiveshell.py\", line 3130, in _run_cell\n",
      "    result = runner(coro)\n",
      "  File \"/home/salvatore/.local/lib/python3.10/site-packages/IPython/core/async_helpers.py\", line 128, in _pseudo_sync_runner\n",
      "    coro.send(None)\n",
      "  File \"/home/salvatore/.local/lib/python3.10/site-packages/IPython/core/interactiveshell.py\", line 3334, in run_cell_async\n",
      "    has_raised = await self.run_ast_nodes(code_ast.body, cell_name,\n",
      "  File \"/home/salvatore/.local/lib/python3.10/site-packages/IPython/core/interactiveshell.py\", line 3517, in run_ast_nodes\n",
      "    if await self.run_code(code, result, async_=asy):\n",
      "  File \"/home/salvatore/.local/lib/python3.10/site-packages/IPython/core/interactiveshell.py\", line 3577, in run_code\n",
      "    exec(code_obj, self.user_global_ns, self.user_ns)\n",
      "  File \"/tmp/ipykernel_8580/2546837229.py\", line 4, in <module>\n",
      "    from sklearn.metrics import accuracy_score, precision_recall_fscore_support, classification_report\n",
      "  File \"/home/salvatore/.local/lib/python3.10/site-packages/sklearn/__init__.py\", line 73, in <module>\n",
      "    from .base import clone  # noqa: E402\n",
      "  File \"/home/salvatore/.local/lib/python3.10/site-packages/sklearn/base.py\", line 19, in <module>\n",
      "    from .utils._estimator_html_repr import _HTMLDocumentationLinkMixin, estimator_html_repr\n",
      "  File \"/home/salvatore/.local/lib/python3.10/site-packages/sklearn/utils/__init__.py\", line 15, in <module>\n",
      "    from ._chunking import gen_batches, gen_even_slices\n",
      "  File \"/home/salvatore/.local/lib/python3.10/site-packages/sklearn/utils/_chunking.py\", line 11, in <module>\n",
      "    from ._param_validation import Interval, validate_params\n",
      "  File \"/home/salvatore/.local/lib/python3.10/site-packages/sklearn/utils/_param_validation.py\", line 17, in <module>\n",
      "    from .validation import _is_arraylike_not_scalar\n",
      "  File \"/home/salvatore/.local/lib/python3.10/site-packages/sklearn/utils/validation.py\", line 21, in <module>\n",
      "    from ..utils._array_api import _asarray_with_order, _is_numpy_namespace, get_namespace\n",
      "  File \"/home/salvatore/.local/lib/python3.10/site-packages/sklearn/utils/_array_api.py\", line 17, in <module>\n",
      "    from .fixes import parse_version\n",
      "  File \"/home/salvatore/.local/lib/python3.10/site-packages/sklearn/utils/fixes.py\", line 20, in <module>\n",
      "    import pandas as pd\n",
      "  File \"/home/salvatore/.local/lib/python3.10/site-packages/pandas/__init__.py\", line 49, in <module>\n",
      "    from pandas.core.api import (\n",
      "  File \"/home/salvatore/.local/lib/python3.10/site-packages/pandas/core/api.py\", line 28, in <module>\n",
      "    from pandas.core.arrays import Categorical\n",
      "  File \"/home/salvatore/.local/lib/python3.10/site-packages/pandas/core/arrays/__init__.py\", line 1, in <module>\n",
      "    from pandas.core.arrays.arrow import ArrowExtensionArray\n",
      "  File \"/home/salvatore/.local/lib/python3.10/site-packages/pandas/core/arrays/arrow/__init__.py\", line 5, in <module>\n",
      "    from pandas.core.arrays.arrow.array import ArrowExtensionArray\n",
      "  File \"/home/salvatore/.local/lib/python3.10/site-packages/pandas/core/arrays/arrow/array.py\", line 50, in <module>\n",
      "    from pandas.core import (\n",
      "  File \"/home/salvatore/.local/lib/python3.10/site-packages/pandas/core/ops/__init__.py\", line 8, in <module>\n",
      "    from pandas.core.ops.array_ops import (\n",
      "  File \"/home/salvatore/.local/lib/python3.10/site-packages/pandas/core/ops/array_ops.py\", line 56, in <module>\n",
      "    from pandas.core.computation import expressions\n",
      "  File \"/home/salvatore/.local/lib/python3.10/site-packages/pandas/core/computation/expressions.py\", line 21, in <module>\n",
      "    from pandas.core.computation.check import NUMEXPR_INSTALLED\n",
      "  File \"/home/salvatore/.local/lib/python3.10/site-packages/pandas/core/computation/check.py\", line 5, in <module>\n",
      "    ne = import_optional_dependency(\"numexpr\", errors=\"warn\")\n",
      "  File \"/home/salvatore/.local/lib/python3.10/site-packages/pandas/compat/_optional.py\", line 135, in import_optional_dependency\n",
      "    module = importlib.import_module(name)\n",
      "  File \"/usr/lib/python3.10/importlib/__init__.py\", line 126, in import_module\n",
      "    return _bootstrap._gcd_import(name[level:], package, level)\n",
      "  File \"/home/salvatore/.local/lib/python3.10/site-packages/numexpr/__init__.py\", line 24, in <module>\n",
      "    from numexpr.interpreter import MAX_THREADS, use_vml, __BLOCK_SIZE1__\n"
     ]
    },
    {
     "ename": "AttributeError",
     "evalue": "_ARRAY_API not found",
     "output_type": "error",
     "traceback": [
      "\u001b[0;31m---------------------------------------------------------------------------\u001b[0m",
      "\u001b[0;31mAttributeError\u001b[0m                            Traceback (most recent call last)",
      "\u001b[0;31mAttributeError\u001b[0m: _ARRAY_API not found"
     ]
    },
    {
     "name": "stderr",
     "output_type": "stream",
     "text": [
      "[nltk_data] Downloading package punkt to /home/salvatore/nltk_data...\n",
      "[nltk_data]   Package punkt is already up-to-date!\n",
      "[nltk_data] Downloading package punkt_tab to\n",
      "[nltk_data]     /home/salvatore/nltk_data...\n",
      "[nltk_data]   Package punkt_tab is already up-to-date!\n",
      "[nltk_data] Downloading package stopwords to\n",
      "[nltk_data]     /home/salvatore/nltk_data...\n",
      "[nltk_data]   Package stopwords is already up-to-date!\n"
     ]
    },
    {
     "data": {
      "text/plain": [
       "True"
      ]
     },
     "execution_count": 1,
     "metadata": {},
     "output_type": "execute_result"
    }
   ],
   "source": [
    "import torch\n",
    "import torch.nn as nn\n",
    "import torch.optim as optim\n",
    "from sklearn.metrics import accuracy_score, precision_recall_fscore_support, classification_report\n",
    "from sklearn.metrics import confusion_matrix, ConfusionMatrixDisplay\n",
    "from sklearn.utils import resample\n",
    "from torch.utils.data import Dataset, DataLoader, TensorDataset\n",
    "from tqdm.notebook import tqdm\n",
    "import numpy as np\n",
    "import kagglehub\n",
    "import pandas as pd\n",
    "from sklearn.model_selection import train_test_split\n",
    "from collections import Counter\n",
    "from nltk.tokenize import word_tokenize\n",
    "import nltk\n",
    "from nltk.corpus import stopwords\n",
    "from matplotlib import pyplot as plt\n",
    "from transformers import RobertaTokenizer, RobertaForSequenceClassification, EarlyStoppingCallback, TrainingArguments, Trainer\n",
    "from peft import LoraConfig, get_peft_model\n",
    "import time\n",
    "from wordcloud import WordCloud\n",
    "\n",
    "# Download the NLTK punkt tokenizer\n",
    "nltk.download('punkt')\n",
    "nltk.download('punkt_tab')\n",
    "nltk.download('stopwords')"
   ]
  },
  {
   "cell_type": "markdown",
   "id": "04486a7b",
   "metadata": {},
   "source": [
    "## Some Constants"
   ]
  },
  {
   "cell_type": "code",
   "execution_count": 2,
   "id": "2aaf3447",
   "metadata": {},
   "outputs": [],
   "source": [
    "MAX_LEN = 256\n",
    "RANDOM_SEED = 42\n",
    "VAL_SIZE = 0.15\n",
    "TEST_SIZE = 0.15\n",
    "RESULTS_DIR = './results'"
   ]
  },
  {
   "cell_type": "markdown",
   "id": "7af97d37",
   "metadata": {},
   "source": [
    "## Useful functions"
   ]
  },
  {
   "cell_type": "code",
   "execution_count": 3,
   "id": "7c4046cb",
   "metadata": {},
   "outputs": [],
   "source": [
    "def stars_to_sentiment(stars):\n",
    "    \"\"\"\n",
    "    Convert star ratings to sentiment labels.\n",
    "    1-2 stars: Negative, 3 stars: Neutral, 4-5 stars: Positive\n",
    "    \"\"\"\n",
    "    if stars <= 1:\n",
    "        return \"Negative\"\n",
    "    elif stars == 2:\n",
    "        return \"Neutral\"\n",
    "    else:\n",
    "        return \"Positive\"\n",
    "\n",
    "################### transformers ######################\n",
    "# Tokenizer \n",
    "def tokenize_reviews(df, tokenizer, max_length=512):\n",
    "    encodings = tokenizer(\n",
    "        df[\"Review\"].tolist(),\n",
    "        padding='max_length',\n",
    "        truncation=True,\n",
    "        max_length=max_length,\n",
    "        return_tensors='pt'\n",
    "    )\n",
    "    labels = torch.tensor(df[\"Rating\"].values)\n",
    "    return encodings, labels\n",
    "\n",
    "# Unpack the encodings (input_ids and attention_mask)\n",
    "class EncodedDataset(Dataset):\n",
    "    def __init__(self, encodings, labels):\n",
    "        self.encodings = encodings\n",
    "        self.labels = labels\n",
    "    \n",
    "    def __getitem__(self, idx):\n",
    "        return {\n",
    "            'input_ids': self.encodings['input_ids'][idx],\n",
    "            'attention_mask': self.encodings['attention_mask'][idx],\n",
    "            'labels': self.labels[idx]\n",
    "        }\n",
    "    \n",
    "    def __len__(self):\n",
    "        return len(self.labels)\n",
    "    \n",
    "def compute_metrics(eval_pred):\n",
    "    logits, labels = eval_pred\n",
    "    predictions = np.argmax(logits, axis=1)\n",
    "    prec, rec, f_score, _ = precision_recall_fscore_support(labels, predictions, average='weighted')\n",
    "    return {\"precision\": prec,\n",
    "            \"recall\": rec,\n",
    "            \"f1\": f_score}\n",
    "    \n",
    "################### LSTM ######################\n",
    "\n",
    "# Encode sentences with padding and OOV handling\n",
    "def encode_sentence(tokens, vocab, max_len):\n",
    "    encoded = [vocab.get(word, vocab[\"<OOV>\"]) for word in tokens]\n",
    "    padded = encoded[:max_len] + [vocab[\"<PAD>\"]] * max(0, max_len - len(encoded))\n",
    "    return padded\n",
    "\n",
    "class ReviewDataset(Dataset):\n",
    "    def __init__(self, X, y):\n",
    "        self.X = torch.tensor(X, dtype=torch.long)\n",
    "        self.y = torch.tensor(y, dtype=torch.long)\n",
    "\n",
    "    def __len__(self):\n",
    "        return len(self.X)\n",
    "\n",
    "    def __getitem__(self, idx):\n",
    "        return self.X[idx], self.y[idx]"
   ]
  },
  {
   "cell_type": "markdown",
   "id": "440283ec",
   "metadata": {},
   "source": [
    "## Check whether the GPU is available"
   ]
  },
  {
   "cell_type": "code",
   "execution_count": 4,
   "id": "cf8d3f5e",
   "metadata": {},
   "outputs": [
    {
     "name": "stdout",
     "output_type": "stream",
     "text": [
      "True\n",
      "1\n",
      "NVIDIA GeForce RTX 3060 Laptop GPU\n",
      "Using device: cuda\n"
     ]
    }
   ],
   "source": [
    "device = torch.device(\"cuda\" if torch.cuda.is_available() else \"cpu\")\n",
    "print(torch.cuda.is_available())\n",
    "print(torch.cuda.device_count())\n",
    "print(torch.cuda.get_device_name(0))\n",
    "print(\"Using device:\", device)"
   ]
  },
  {
   "cell_type": "markdown",
   "id": "2691817e",
   "metadata": {},
   "source": [
    "## Dataset"
   ]
  },
  {
   "cell_type": "markdown",
   "id": "80eca058",
   "metadata": {},
   "source": [
    "### Download"
   ]
  },
  {
   "cell_type": "code",
   "execution_count": 5,
   "id": "aaa79168",
   "metadata": {},
   "outputs": [
    {
     "name": "stdout",
     "output_type": "stream",
     "text": [
      "Warning: Looks like you're using an outdated `kagglehub` version (installed: 0.3.10), please consider upgrading to the latest version (0.3.12).\n",
      "Path to dataset files: /home/salvatore/.cache/kagglehub/datasets/andrewmvd/trip-advisor-hotel-reviews/versions/2\n"
     ]
    }
   ],
   "source": [
    "# Download latest version\n",
    "dataset_path = kagglehub.dataset_download(\"andrewmvd/trip-advisor-hotel-reviews\")\n",
    "\n",
    "print(\"Path to dataset files:\", dataset_path)"
   ]
  },
  {
   "cell_type": "markdown",
   "id": "d81986c8",
   "metadata": {},
   "source": [
    "### Dataloading on Pandas + preprocessing"
   ]
  },
  {
   "cell_type": "code",
   "execution_count": 6,
   "id": "2c89b598",
   "metadata": {},
   "outputs": [
    {
     "name": "stderr",
     "output_type": "stream",
     "text": [
      "Token indices sequence length is longer than the specified maximum sequence length for this model (721 > 512). Running this sequence through the model will result in indexing errors\n"
     ]
    },
    {
     "name": "stdout",
     "output_type": "stream",
     "text": [
      "New dataset size: 18273\n",
      "count    18273.000000\n",
      "mean       104.469053\n",
      "std         54.736717\n",
      "min         11.000000\n",
      "25%         62.000000\n",
      "50%         93.000000\n",
      "75%        138.000000\n",
      "max        256.000000\n",
      "Name: token_count, dtype: float64\n",
      "Rating\n",
      "4    8270\n",
      "3    5338\n",
      "2    1911\n",
      "1    1518\n",
      "0    1236\n",
      "Name: count, dtype: int64\n",
      "Train size: 13202\n",
      "Validation size: 2330\n",
      "Test size: 2741\n",
      "                                              Review  Rating  token_count\n",
      "0  nice hotel expensive parking got good deal sta...       3          103\n",
      "1  unique, great stay, wonderful time hotel monac...       4          117\n",
      "2  great stay great stay, went seahawk game aweso...       4          242\n",
      "3  love monaco staff husband stayed hotel crazy w...       4          186\n",
      "4  cozy stay rainy city, husband spent 7 nights m...       4          132\n"
     ]
    }
   ],
   "source": [
    "# Load the dataset CSV file\n",
    "df = pd.read_csv(f\"{dataset_path}/tripadvisor_hotel_reviews.csv\")\n",
    "df[\"Rating\"] = df[\"Rating\"] - 1 # Convert 1–5 to 0–4\n",
    "\n",
    "stop_words = set(stopwords.words('english'))\n",
    "\n",
    "# removing html tags and converting to lowercase\n",
    "df[\"Review\"] = df[\"Review\"].str.lower()\n",
    "df[\"Review\"] = df[\"Review\"].str.replace(r\"<.*?>\", \"\", regex=True)\n",
    "df[\"Review\"] = df[\"Review\"].apply(lambda x: ' '.join([word for word in x.split() if word.lower() not in stop_words]))\n",
    "\n",
    "# Initialize the tokenizer\n",
    "tokenizer = RobertaTokenizer.from_pretrained(\"roberta-base\")\n",
    "\n",
    "# Step 1: Add a column with the number of tokens per review\n",
    "token_counts = tokenizer(\n",
    "    df[\"Review\"].tolist(),\n",
    "    padding=False,\n",
    "    truncation=False,\n",
    "    return_length=True\n",
    ")[\"length\"]\n",
    "df[\"token_count\"] = token_counts\n",
    "\n",
    "# Step 2: Drop reviews with token_count > MAX_LEN\n",
    "df_filtered = df[df[\"token_count\"] <= MAX_LEN].reset_index(drop=True)\n",
    "\n",
    "# Step 3: (Optional) Check new distribution\n",
    "print(\"New dataset size:\", len(df_filtered))\n",
    "print(df_filtered[\"token_count\"].describe())\n",
    "\n",
    "print(df_filtered[\"Rating\"].value_counts())\n",
    "\n",
    "# First, shuffle and split off the test set\n",
    "df_temp, df_test = train_test_split(df_filtered, test_size=TEST_SIZE, random_state=RANDOM_SEED, shuffle=True)\n",
    "\n",
    "# Then, split the remaining into train and validation\n",
    "df_train, df_val = train_test_split(df_temp, test_size=VAL_SIZE, random_state=RANDOM_SEED, shuffle=True)\n",
    "\n",
    "# Optionally, reset indices\n",
    "df_train = df_train.reset_index(drop=True)\n",
    "df_val = df_val.reset_index(drop=True)\n",
    "df_test = df_test.reset_index(drop=True)\n",
    "\n",
    "print(f\"Train size: {len(df_train)}\")\n",
    "print(f\"Validation size: {len(df_val)}\")\n",
    "print(f\"Test size: {len(df_test)}\")\n",
    "\n",
    "print(df_filtered.head())\n"
   ]
  },
  {
   "cell_type": "markdown",
   "id": "d35ea0c5",
   "metadata": {},
   "source": [
    "### Visualization"
   ]
  },
  {
   "cell_type": "code",
   "execution_count": 7,
   "id": "3d8377fe",
   "metadata": {},
   "outputs": [
    {
     "data": {
      "image/png": "[encoded data removed]",
      "text/plain": [
       "<Figure size 1200x500 with 2 Axes>"
      ]
     },
     "metadata": {},
     "output_type": "display_data"
    },
    {
     "data": {
      "image/png": "[encoded data removed]",
      "text/plain": [
       "<Figure size 1200x800 with 1 Axes>"
      ]
     },
     "metadata": {},
     "output_type": "display_data"
    }
   ],
   "source": [
    "# Plot label distribution\n",
    "plt.figure(figsize=(12, 5))\n",
    "\n",
    "# Subplot 1: Rating distribution\n",
    "plt.subplot(1, 2, 1)\n",
    "rating_counts = df_filtered['Rating'].value_counts().sort_index()\n",
    "# Offset labels by 1 for display (since ratings are 0–4, but original scale is 1–5)\n",
    "labels_offset = [i + 1 for i in rating_counts.index]\n",
    "plt.bar(labels_offset, rating_counts.values, color='skyblue', edgecolor='black')\n",
    "plt.xlabel('Rating')\n",
    "plt.ylabel('Count')\n",
    "plt.title('Distribution of Ratings in Filtered Dataset')\n",
    "plt.xticks(labels_offset)\n",
    "for i, count in zip(labels_offset, rating_counts.values):\n",
    "    plt.text(i, count + 50, str(count), ha='center', va='bottom')\n",
    "\n",
    "# Subplot 2: Sentiment distribution (using stars_to_sentiment function)\n",
    "plt.subplot(1, 2, 2)\n",
    "df_filtered['Sentiment'] = df_filtered['Rating'].apply(stars_to_sentiment)\n",
    "sentiment_counts = df_filtered['Sentiment'].value_counts()\n",
    "colors = ['red', 'orange', 'green']\n",
    "plt.pie(sentiment_counts.values, labels=sentiment_counts.index, autopct='%1.1f%%', colors=colors)\n",
    "plt.title('Sentiment Distribution in Filtered Dataset')\n",
    "\n",
    "plt.tight_layout()\n",
    "plt.savefig('report/images/label_distribution.png')\n",
    "plt.show()\n",
    "\n",
    "# Word Cloud\n",
    "\n",
    "# Combine all reviews into one text\n",
    "all_text = ' '.join(df_filtered['Review'].values)\n",
    "\n",
    "# Generate word cloud\n",
    "plt.figure(figsize=(12, 8))\n",
    "wordcloud = WordCloud(width=800, height=400, background_color='white', max_words=100).generate(all_text)\n",
    "plt.imshow(wordcloud, interpolation='bilinear')\n",
    "plt.axis('off')\n",
    "plt.title('Word Cloud of Hotel Reviews', fontsize=16, fontweight='bold')\n",
    "plt.savefig('report/images/wordcloud.png')\n",
    "plt.show()"
   ]
  },
  {
   "cell_type": "markdown",
   "id": "ca39a880",
   "metadata": {},
   "source": [
    "### Torch Dataloaders"
   ]
  },
  {
   "cell_type": "markdown",
   "id": "93b82438",
   "metadata": {},
   "source": [
    "#### RoBERTa dataloaders"
   ]
  },
  {
   "cell_type": "code",
   "execution_count": 8,
   "id": "d73c358c",
   "metadata": {},
   "outputs": [],
   "source": [
    "# Tokenize train, validation, and test sets\n",
    "train_encodings = tokenize_reviews(df_train, tokenizer)\n",
    "val_encodings = tokenize_reviews(df_val, tokenizer)\n",
    "test_encodings = tokenize_reviews(df_test, tokenizer)\n",
    "\n",
    "# Build datasets\n",
    "train_dataset = EncodedDataset(*train_encodings)\n",
    "val_dataset = EncodedDataset(*val_encodings)\n",
    "test_dataset = EncodedDataset(*test_encodings)\n",
    "# Only keep the first 100 entries for each dataset\n",
    "mock_dataset = EncodedDataset(\n",
    "    {k: v[:100] for k, v in train_encodings[0].items()},\n",
    "    train_encodings[1][:100]\n",
    ")\n",
    "\n",
    "# Create DataLoaders\n",
    "train_loader_bert = DataLoader(train_dataset, batch_size=32, shuffle=True)\n",
    "val_loader_bert = DataLoader(val_dataset, batch_size=32)\n",
    "test_loader_bert = DataLoader(test_dataset, batch_size=32)\n",
    "mock_loader_bert = DataLoader(mock_dataset, batch_size=8)"
   ]
  },
  {
   "cell_type": "markdown",
   "id": "f94ee7d5",
   "metadata": {},
   "source": [
    "#### LSTM dataloaders"
   ]
  },
  {
   "cell_type": "code",
   "execution_count": 9,
   "id": "9c63e8a5",
   "metadata": {},
   "outputs": [
    {
     "name": "stdout",
     "output_type": "stream",
     "text": [
      "Number of reviews: 18273\n",
      "LSTM splits - Train: 13202, Val: 2330, Test: 2741\n"
     ]
    }
   ],
   "source": [
    "texts = df_filtered[\"Review\"].values\n",
    "print(\"Number of reviews:\", len(texts))\n",
    "labels = df_filtered[\"Rating\"].values\n",
    "\n",
    "# Tokenize and build vocab\n",
    "tokenized_texts = [word_tokenize(text.lower()) for text in texts]\n",
    "vocab = Counter([word for sentence in tokenized_texts for word in sentence])\n",
    "vocab = {word: i+2 for i, (word, _) in enumerate(vocab.most_common(10000))}\n",
    "vocab[\"<PAD>\"] = 0\n",
    "vocab[\"<OOV>\"] = 1\n",
    "\n",
    "encoded_texts = [encode_sentence(tokens, vocab, MAX_LEN) for tokens in tokenized_texts]\n",
    "\n",
    "# Split encoded_texts and labels into train, val, test sets (same sizes as before)\n",
    "encoded_texts = np.array(encoded_texts)\n",
    "labels = np.array(labels)\n",
    "\n",
    "X_temp, X_test, y_temp, y_test = train_test_split(\n",
    "    encoded_texts, labels, test_size=TEST_SIZE, random_state=RANDOM_SEED, shuffle=True\n",
    ")\n",
    "X_train, X_val, y_train, y_val = train_test_split(\n",
    "    X_temp, y_temp, test_size=VAL_SIZE, random_state=RANDOM_SEED, shuffle=True\n",
    ")\n",
    "\n",
    "print(f\"LSTM splits - Train: {len(X_train)}, Val: {len(X_val)}, Test: {len(X_test)}\")\n",
    "\n",
    "# 2. Create Dataset\n",
    "train_dataset_lstm = ReviewDataset(X_train, y_train)\n",
    "val_dataset_lstm = ReviewDataset(X_val, y_val)\n",
    "test_dataset_lstm = ReviewDataset(X_test, y_test)\n",
    "\n",
    "# 3. Create DataLoaders\n",
    "train_loader_lstm = DataLoader(train_dataset_lstm, batch_size=16, shuffle=True)\n",
    "val_loader_lstm = DataLoader(val_dataset_lstm, batch_size=32)\n",
    "test_loader_lstm = DataLoader(test_dataset_lstm, batch_size=32)"
   ]
  },
  {
   "cell_type": "markdown",
   "id": "75022e68",
   "metadata": {},
   "source": [
    "# Transformer based Model"
   ]
  },
  {
   "cell_type": "markdown",
   "id": "f80f0f12",
   "metadata": {},
   "source": [
    "## Model definition"
   ]
  },
  {
   "cell_type": "code",
   "execution_count": 10,
   "id": "01338243",
   "metadata": {},
   "outputs": [],
   "source": [
    "class SA_Model():\n",
    "    def __init__(self, model_name=\"roberta-base\", num_labels=5):\n",
    "        self.model_name = model_name\n",
    "        self.num_labels = num_labels\n",
    "        self.model = RobertaForSequenceClassification.from_pretrained(self.model_name, num_labels=self.num_labels)\n",
    "        \n",
    "    def apply_lora(self, rank=16):\n",
    "        lora_config = LoraConfig(\n",
    "            r=rank,\n",
    "            lora_alpha=32,\n",
    "            lora_dropout=0.1,\n",
    "            bias=\"none\",\n",
    "            task_type=\"SEQ_CLS\",  # For sequence classification\n",
    "            target_modules=[\"query\", \"value\"],\n",
    "        )\n",
    "        self.model = get_peft_model(self.model, lora_config)\n",
    "        \n",
    "    def freeze_all_except_lora(self):\n",
    "        \"\"\"Freeze all base model weights except LoRA adapters\"\"\"\n",
    "        for name, param in self.model.named_parameters():\n",
    "            if \"lora\" not in name:\n",
    "                param.requires_grad = False\n",
    "\n",
    "    def unfreeze_classifier(self):\n",
    "        \"\"\"Unfreeze the classifier layer for fine-tuning\"\"\"\n",
    "        for name, param in self.model.named_parameters():\n",
    "            if \"classifier\" in name:\n",
    "                param.requires_grad = True\n",
    "\n",
    "    def get_model(self):\n",
    "        return self.model\n",
    "    \n",
    "    def get_trainable_parameters(self):\n",
    "        # for name, param in self.model.named_parameters():\n",
    "        #     if param.requires_grad:\n",
    "        #         print(\"Trainable:\", name)\n",
    "        trainable_params = sum(p.numel() for p in self.model.parameters() if p.requires_grad)\n",
    "        total_params = sum(p.numel() for p in self.model.parameters())\n",
    "        print(f\"Trainable parameters: {trainable_params:,} / {total_params:,} ({100 * trainable_params / total_params:.2f}%)\")"
   ]
  },
  {
   "cell_type": "markdown",
   "id": "b65c5563",
   "metadata": {},
   "source": [
    "## Model evaluation function"
   ]
  },
  {
   "cell_type": "code",
   "execution_count": null,
   "id": "4f2000a3",
   "metadata": {},
   "outputs": [],
   "source": [
    "def evaluate_model(model, data_loader):\n",
    "    model.eval()\n",
    "    all_preds = []\n",
    "    all_labels = []\n",
    "    with torch.no_grad():\n",
    "        for batch in tqdm(data_loader, desc=\"Evaluating\"):\n",
    "            inputs = {k: v.to(device) for k, v in batch.items() if k != \"labels\"}\n",
    "            labels = batch[\"labels\"].to(device)\n",
    "            outputs = model(**inputs)\n",
    "            logits = outputs.logits if hasattr(outputs, \"logits\") else outputs[0]\n",
    "            preds = torch.argmax(logits, dim=1)\n",
    "            all_preds.extend(preds.cpu().numpy())\n",
    "            all_labels.extend(labels.cpu().numpy())\n",
    "\n",
    "    accuracy = accuracy_score(all_labels, all_preds)\n",
    "    precision, recall, f1, _ = precision_recall_fscore_support(all_labels, all_preds, average='weighted')\n",
    "    cm = confusion_matrix(all_labels, all_preds)\n",
    "    print(f\"Accuracy: {accuracy:.4f}\")\n",
    "    print(f\"Precision: {precision:.4f}, Recall: {recall:.4f}, F1 Score: {f1:.4f}\")\n",
    "    print(\"Classification Report:\")\n",
    "    print(classification_report(all_labels, all_preds))\n",
    "    disp = ConfusionMatrixDisplay(confusion_matrix=cm)\n",
    "    disp.plot(cmap='Blues')\n",
    "    plt.show()\n",
    "    return accuracy, precision, recall, f1, cm\n",
    "\n",
    "def evaluate_model_as_sentiment(model, data_loader):\n",
    "    model.eval()\n",
    "    all_preds = []\n",
    "    all_labels = []\n",
    "    with torch.no_grad():\n",
    "        for batch in tqdm(data_loader, desc=\"Evaluating\"):\n",
    "            inputs = {k: v.to(device) for k, v in batch.items() if k != \"labels\"}\n",
    "            labels = batch[\"labels\"].to(device)\n",
    "            outputs = model(**inputs)\n",
    "            logits = outputs.logits if hasattr(outputs, \"logits\") else outputs[0]\n",
    "            preds = torch.argmax(logits, dim=1)\n",
    "            all_preds.extend(preds.cpu().numpy())\n",
    "            all_labels.extend(labels.cpu().numpy())\n",
    "\n",
    "    all_preds = [stars_to_sentiment(pred) for pred in all_preds]\n",
    "    all_labels = [stars_to_sentiment(label) for label in all_labels]\n",
    "\n",
    "    accuracy = accuracy_score(all_labels, all_preds)\n",
    "    precision, recall, f1, _ = precision_recall_fscore_support(all_labels, all_preds, average='weighted')\n",
    "    cm = confusion_matrix(all_labels, all_preds)\n",
    "    print(f\"Accuracy: {accuracy:.4f}\")\n",
    "    print(f\"Precision: {precision:.4f}, Recall: {recall:.4f}, F1 Score: {f1:.4f}\")\n",
    "    print(\"Classification Report:\")\n",
    "    print(classification_report(all_labels, all_preds))\n",
    "    disp = ConfusionMatrixDisplay(confusion_matrix=cm, display_labels=[\"Negative\", \"Neutral\", \"Positive\"])\n",
    "    disp.plot(cmap='Blues')\n",
    "    plt.show()\n",
    "    return accuracy, precision, recall, f1, cm"
   ]
  },
  {
   "cell_type": "markdown",
   "id": "9608b17c",
   "metadata": {},
   "source": [
    "## Training"
   ]
  },
  {
   "cell_type": "code",
   "execution_count": 12,
   "id": "b9bfc24a",
   "metadata": {},
   "outputs": [
    {
     "name": "stderr",
     "output_type": "stream",
     "text": [
      "Some weights of RobertaForSequenceClassification were not initialized from the model checkpoint at roberta-base and are newly initialized: ['classifier.dense.bias', 'classifier.dense.weight', 'classifier.out_proj.bias', 'classifier.out_proj.weight']\n",
      "You should probably TRAIN this model on a down-stream task to be able to use it for predictions and inference.\n"
     ]
    },
    {
     "name": "stdout",
     "output_type": "stream",
     "text": [
      "Trainable parameters: 2,368,522 / 126,423,562 (1.87%)\n"
     ]
    }
   ],
   "source": [
    "model = SA_Model()\n",
    "model.apply_lora(rank=32)\n",
    "model.freeze_all_except_lora() \n",
    "model.unfreeze_classifier()\n",
    "model.get_trainable_parameters()"
   ]
  },
  {
   "cell_type": "code",
   "execution_count": null,
   "id": "7f7cd15d",
   "metadata": {},
   "outputs": [
    {
     "data": {
      "text/html": [
       "\n",
       "    <div>\n",
       "      \n",
       "      <progress value='5782' max='16520' style='width:300px; height:20px; vertical-align: middle;'></progress>\n",
       "      [ 5782/16520 38:18 < 1:11:09, 2.51 it/s, Epoch 7/20]\n",
       "    </div>\n",
       "    <table border=\"1\" class=\"dataframe\">\n",
       "  <thead>\n",
       " <tr style=\"text-align: left;\">\n",
       "      <th>Epoch</th>\n",
       "      <th>Training Loss</th>\n",
       "      <th>Validation Loss</th>\n",
       "      <th>Precision</th>\n",
       "      <th>Recall</th>\n",
       "      <th>F1</th>\n",
       "    </tr>\n",
       "  </thead>\n",
       "  <tbody>\n",
       "    <tr>\n",
       "      <td>1</td>\n",
       "      <td>1.037600</td>\n",
       "      <td>0.943154</td>\n",
       "      <td>0.565327</td>\n",
       "      <td>0.593991</td>\n",
       "      <td>0.556983</td>\n",
       "    </tr>\n",
       "    <tr>\n",
       "      <td>2</td>\n",
       "      <td>0.852600</td>\n",
       "      <td>0.799598</td>\n",
       "      <td>0.652391</td>\n",
       "      <td>0.657511</td>\n",
       "      <td>0.653792</td>\n",
       "    </tr>\n",
       "    <tr>\n",
       "      <td>3</td>\n",
       "      <td>0.804700</td>\n",
       "      <td>0.765051</td>\n",
       "      <td>0.650603</td>\n",
       "      <td>0.660944</td>\n",
       "      <td>0.650230</td>\n",
       "    </tr>\n",
       "    <tr>\n",
       "      <td>4</td>\n",
       "      <td>0.816700</td>\n",
       "      <td>0.748247</td>\n",
       "      <td>0.669002</td>\n",
       "      <td>0.674678</td>\n",
       "      <td>0.670030</td>\n",
       "    </tr>\n",
       "    <tr>\n",
       "      <td>5</td>\n",
       "      <td>0.733900</td>\n",
       "      <td>0.747430</td>\n",
       "      <td>0.673160</td>\n",
       "      <td>0.681116</td>\n",
       "      <td>0.675876</td>\n",
       "    </tr>\n",
       "    <tr>\n",
       "      <td>6</td>\n",
       "      <td>0.777600</td>\n",
       "      <td>0.744094</td>\n",
       "      <td>0.665060</td>\n",
       "      <td>0.676824</td>\n",
       "      <td>0.666514</td>\n",
       "    </tr>\n",
       "    <tr>\n",
       "      <td>7</td>\n",
       "      <td>0.741000</td>\n",
       "      <td>0.732825</td>\n",
       "      <td>0.671342</td>\n",
       "      <td>0.686266</td>\n",
       "      <td>0.672358</td>\n",
       "    </tr>\n",
       "  </tbody>\n",
       "</table><p>"
      ],
      "text/plain": [
       "<IPython.core.display.HTML object>"
      ]
     },
     "metadata": {},
     "output_type": "display_data"
    }
   ],
   "source": [
    "training_args = TrainingArguments(\n",
    "    output_dir=RESULTS_DIR + \"/transfomer\",     # Where checkpoints/logs go\n",
    "    per_device_train_batch_size=16,             # Batch size per GPU\n",
    "    per_device_eval_batch_size=16,\n",
    "    num_train_epochs=20,                        # Total number of training epochs\n",
    "    learning_rate=3e-5,\n",
    "    warmup_ratio=0.1,                           # 10% of training steps for warmup\n",
    "    eval_strategy=\"epoch\",                      # Run eval at end of every epoch\n",
    "    save_strategy=\"epoch\",                      # Save checkpoint every epoch\n",
    "    logging_strategy=\"steps\",\n",
    "    logging_steps=100,\n",
    "    fp16=True,                           \n",
    "    save_total_limit=5,                         # Only keep the last 5 checkpoints\n",
    "    load_best_model_at_end=True,                # Use best checkpoint (based on metric)\n",
    "    metric_for_best_model=\"f1\",                 # Choose best model by accuracy\n",
    "    greater_is_better=True,\n",
    ")\n",
    "\n",
    "trainer = Trainer(\n",
    "    model=model.get_model(),\n",
    "    args=training_args,\n",
    "    train_dataset=train_dataset,\n",
    "    eval_dataset=val_dataset,\n",
    "    compute_metrics=compute_metrics,\n",
    "    callbacks=[EarlyStoppingCallback(early_stopping_patience=2)]  \n",
    ")\n",
    "\n",
    "trainer.train()\n",
    "\n",
    "trainer.save_model(f\"lora_tripadvisor_{time.strftime('%Y%m%d_%H%M%S')}\")"
   ]
  },
  {
   "cell_type": "code",
   "execution_count": null,
   "id": "e8d2ffa4",
   "metadata": {},
   "outputs": [
    {
     "data": {
      "text/plain": [
       "('./results/tokenizer_config.json',\n",
       " './results/special_tokens_map.json',\n",
       " './results/vocab.json',\n",
       " './results/merges.txt',\n",
       " './results/added_tokens.json')"
      ]
     },
     "execution_count": 14,
     "metadata": {},
     "output_type": "execute_result"
    }
   ],
   "source": [
    "model.model.save_pretrained(f\"{RESULTS_DIR}/transfomer/\")\n",
    "tokenizer.save_pretrained(f\"{RESULTS_DIR}/transfomer/\")"
   ]
  },
  {
   "cell_type": "code",
   "execution_count": 15,
   "id": "8af540b2",
   "metadata": {},
   "outputs": [
    {
     "data": {
      "application/vnd.jupyter.widget-view+json": {
       "model_id": "c712c8cd3bbb4036a42c7a97a407d6af",
       "version_major": 2,
       "version_minor": 0
      },
      "text/plain": [
       "Evaluating:   0%|          | 0/86 [00:00<?, ?it/s]"
      ]
     },
     "metadata": {},
     "output_type": "display_data"
    },
    {
     "name": "stdout",
     "output_type": "stream",
     "text": [
      "Accuracy: 0.6775\n",
      "Precision: 0.6678, Recall: 0.6775, F1 Score: 0.6709\n",
      "Classification Report:\n",
      "              precision    recall  f1-score   support\n",
      "\n",
      "           0       0.74      0.78      0.76       209\n",
      "           1       0.53      0.50      0.51       226\n",
      "           2       0.53      0.45      0.48       287\n",
      "           3       0.60      0.54      0.57       812\n",
      "           4       0.76      0.84      0.80      1207\n",
      "\n",
      "    accuracy                           0.68      2741\n",
      "   macro avg       0.63      0.62      0.62      2741\n",
      "weighted avg       0.67      0.68      0.67      2741\n",
      "\n"
     ]
    },
    {
     "data": {
      "image/png": "[encoded data removed]",
      "text/plain": [
       "<Figure size 640x480 with 2 Axes>"
      ]
     },
     "metadata": {},
     "output_type": "display_data"
    },
    {
     "data": {
      "application/vnd.jupyter.widget-view+json": {
       "model_id": "07e395b383fd4479871f3d91c5cef35e",
       "version_major": 2,
       "version_minor": 0
      },
      "text/plain": [
       "Evaluating:   0%|          | 0/86 [00:00<?, ?it/s]"
      ]
     },
     "metadata": {},
     "output_type": "display_data"
    },
    {
     "name": "stdout",
     "output_type": "stream",
     "text": [
      "Accuracy: 0.8818\n",
      "Precision: 0.8751, Recall: 0.8818, F1 Score: 0.8780\n",
      "Classification Report:\n",
      "              precision    recall  f1-score   support\n",
      "\n",
      "    Negative       0.84      0.84      0.84       435\n",
      "     Neutral       0.53      0.45      0.48       287\n",
      "    Positive       0.93      0.95      0.94      2019\n",
      "\n",
      "    accuracy                           0.88      2741\n",
      "   macro avg       0.77      0.75      0.76      2741\n",
      "weighted avg       0.88      0.88      0.88      2741\n",
      "\n"
     ]
    },
    {
     "data": {
      "image/png": "[encoded data removed]",
      "text/plain": [
       "<Figure size 640x480 with 2 Axes>"
      ]
     },
     "metadata": {},
     "output_type": "display_data"
    },
    {
     "data": {
      "text/plain": [
       "(0.8817949653411163,\n",
       " 0.875115138206264,\n",
       " 0.8817949653411163,\n",
       " 0.8779930958304691,\n",
       " array([[ 364,   41,   30],\n",
       "        [  48,  128,  111],\n",
       "        [  21,   73, 1925]]))"
      ]
     },
     "execution_count": 15,
     "metadata": {},
     "output_type": "execute_result"
    }
   ],
   "source": [
    "evaluate_model(model.get_model(), test_loader_bert)\n",
    "evaluate_model_as_sentiment(model.get_model(), test_loader_bert)"
   ]
  },
  {
   "cell_type": "markdown",
   "id": "d7efb3ca",
   "metadata": {},
   "source": [
    "# LSTM based Model"
   ]
  },
  {
   "cell_type": "markdown",
   "id": "fd1c8b37",
   "metadata": {},
   "source": [
    "## Model definition"
   ]
  },
  {
   "cell_type": "code",
   "execution_count": 20,
   "id": "57a215f2",
   "metadata": {},
   "outputs": [],
   "source": [
    "class LSTMClassifier(nn.Module):\n",
    "    def __init__(self, vocab_size, embed_dim, hidden_dim, output_dim):\n",
    "        super().__init__()\n",
    "        self.embedding = nn.Embedding(vocab_size, embed_dim, padding_idx=0)\n",
    "        self.lstm = nn.LSTM(embed_dim, hidden_dim, batch_first=True)\n",
    "        self.dropout = nn.Dropout(0.3)\n",
    "        self.fc = nn.Linear(hidden_dim, output_dim)\n",
    "\n",
    "    def forward(self, x):\n",
    "        embedded = self.embedding(x)\n",
    "        _, (hidden, _) = self.lstm(embedded)\n",
    "        out = self.dropout(hidden[-1])\n",
    "        return self.fc(out)"
   ]
  },
  {
   "cell_type": "markdown",
   "id": "fc3631bb",
   "metadata": {},
   "source": [
    "## Training function"
   ]
  },
  {
   "cell_type": "code",
   "execution_count": null,
   "id": "1b497987",
   "metadata": {},
   "outputs": [],
   "source": [
    "def evaluate_model(model, data_loader):\n",
    "    model.eval()\n",
    "    all_preds = []\n",
    "    all_labels = []\n",
    "    with torch.no_grad():\n",
    "        for inputs, labels in tqdm(data_loader, desc=\"Evaluating\"):\n",
    "            inputs, labels = inputs.to(device), labels.to(device)\n",
    "            outputs = model(inputs)\n",
    "            _, preds = torch.max(outputs, dim=1)\n",
    "            all_preds.extend(preds.cpu().numpy())\n",
    "            all_labels.extend(labels.cpu().numpy())\n",
    "    \n",
    "    accuracy = accuracy_score(all_labels, all_preds)\n",
    "    precision, recall, f1, _ = precision_recall_fscore_support(all_labels, all_preds, average='weighted')\n",
    "    \n",
    "    print(f\"Accuracy: {accuracy:.4f}\")\n",
    "    print(f\"Precision: {precision:.4f}, Recall: {recall:.4f}, F1 Score: {f1:.4f}\")\n",
    "    \n",
    "    print(\"Classification Report:\")\n",
    "    print(classification_report(all_labels, all_preds))\n",
    "    \n",
    "    cm = confusion_matrix(all_labels, all_preds)\n",
    "    disp = ConfusionMatrixDisplay(confusion_matrix=cm)\n",
    "    disp.plot(cmap='Blues')\n",
    "    \n",
    "    return accuracy, precision, recall, f1\n",
    "\n",
    "def evaluate_model_as_sentiment(model, data_loader):\n",
    "    model.eval()\n",
    "    all_preds = []\n",
    "    all_labels = []\n",
    "    with torch.no_grad():\n",
    "        for inputs, labels in tqdm(data_loader, desc=\"Evaluating\"):\n",
    "            inputs, labels = inputs.to(device), labels.to(device)\n",
    "            outputs = model(inputs)\n",
    "            _, preds = torch.max(outputs, dim=1)\n",
    "            all_preds.extend(preds.cpu().numpy())\n",
    "            all_labels.extend(labels.cpu().numpy())\n",
    "\n",
    "    all_preds = [stars_to_sentiment(pred) for pred in all_preds]\n",
    "    all_labels = [stars_to_sentiment(label) for label in all_labels]\n",
    "    \n",
    "    accuracy = accuracy_score(all_labels, all_preds)\n",
    "    precision, recall, f1, _ = precision_recall_fscore_support(all_labels, all_preds, average='weighted')\n",
    "    \n",
    "    print(f\"Accuracy: {accuracy:.4f}\")\n",
    "    print(f\"Precision: {precision:.4f}, Recall: {recall:.4f}, F1 Score: {f1:.4f}\")\n",
    "    \n",
    "    print(\"Classification Report:\")\n",
    "    print(classification_report(all_labels, all_preds))\n",
    "    \n",
    "    cm = confusion_matrix(all_labels, all_preds)\n",
    "    disp = ConfusionMatrixDisplay(confusion_matrix=cm)\n",
    "    disp.plot(cmap='Blues')\n",
    "    \n",
    "    return accuracy, precision, recall, f1\n",
    "\n",
    "def train_model(model, train_loader, val_loader, num_epochs=100, plot=False, patience=5, min_epochs=60):\n",
    "    train_losses = []\n",
    "    val_losses = []\n",
    "    model.train()\n",
    "    criterion = nn.CrossEntropyLoss()\n",
    "    optimizer = torch.optim.Adam(model.parameters(), lr=0.0003)\n",
    "    for epoch in range(num_epochs):\n",
    "        total_loss = 0\n",
    "        for inputs, labels in tqdm(train_loader, desc=f\"Epoch {epoch+1}/{num_epochs}\"):\n",
    "            inputs, labels = inputs.to(device), labels.to(device)\n",
    "            optimizer.zero_grad()\n",
    "            outputs = model(inputs)\n",
    "            loss = criterion(outputs, labels)\n",
    "            loss.backward()\n",
    "            optimizer.step()\n",
    "            total_loss += loss.item()\n",
    "        print(f\"Training Loss: {total_loss / len(train_loader)}\")\n",
    "        train_losses.append(total_loss / len(train_loader))\n",
    "\n",
    "        # Evaluate on validation set every epoch\n",
    "        model.eval()\n",
    "        val_loss = 0\n",
    "        val_correct = 0\n",
    "        val_total = 0\n",
    "        labels_list = []\n",
    "        outputs_list = []\n",
    "        with torch.no_grad():\n",
    "            for inputs, labels in val_loader:\n",
    "                inputs, labels = inputs.to(device), labels.to(device)\n",
    "                outputs = model(inputs)\n",
    "                loss = criterion(outputs, labels)\n",
    "                val_loss += loss.item()\n",
    "                _, predicted = torch.max(outputs.data, 1)\n",
    "                labels_list.extend(labels.cpu().numpy())\n",
    "                outputs_list.extend(predicted.cpu().numpy())\n",
    "                val_total += labels.size(0)\n",
    "                val_correct += (predicted == labels).sum().item()\n",
    "\n",
    "        \n",
    "        val_accuracy = val_correct / val_total\n",
    "        val_loss_avg = val_loss / len(val_loader)\n",
    "        val_losses.append(val_loss_avg)\n",
    "        prec, rec, f_score, _ = precision_recall_fscore_support(labels_list, outputs_list, average='weighted')\n",
    "        print(f\"Validation Loss: {val_loss_avg:.4f},\")\n",
    "        print(f\"Validation Accuracy: {val_accuracy:.4f},\")\n",
    "        print(f\"Precision: {prec:.4f},\")\n",
    "        print(f\"Recall: {rec:.4f},\")\n",
    "        print(f\"F1 Score: {f_score:.4f}\")\n",
    "        model.train()\n",
    "\n",
    "        # Early stopping implementation\n",
    "        if epoch == 0:\n",
    "            best_f_score = f_score\n",
    "            epochs_without_improvement = 0\n",
    "        else:\n",
    "            if f_score > best_f_score:\n",
    "                best_f_score = f_score\n",
    "                epochs_without_improvement = 0\n",
    "                # Save best model\n",
    "                torch.save(model.state_dict(), RESULTS_DIR + '/lstm/best_model.pth')\n",
    "            else:\n",
    "                epochs_without_improvement += 1\n",
    "                \n",
    "            if epochs_without_improvement >= patience and epoch >= min_epochs:\n",
    "                print(f\"Early stopping triggered after {epoch + 1} epochs\")\n",
    "                break\n",
    "\n",
    "    # Plot training loss\n",
    "    if plot:\n",
    "        plt.figure()\n",
    "        plt.plot(range(1, epoch + 2), train_losses, label='Training Loss')\n",
    "        plt.plot(range(1, epoch + 2), val_losses, label='Validation Loss')\n",
    "        plt.xlabel('Epoch')\n",
    "        plt.ylabel('Loss')\n",
    "        plt.title('Training Loss Curve')\n",
    "        plt.legend()\n",
    "        plt.show()"
   ]
  },
  {
   "cell_type": "markdown",
   "id": "75979015",
   "metadata": {},
   "source": [
    "## Training"
   ]
  },
  {
   "cell_type": "code",
   "execution_count": 22,
   "id": "bb7bd32d",
   "metadata": {},
   "outputs": [
    {
     "data": {
      "application/vnd.jupyter.widget-view+json": {
       "model_id": "d2b7a8e8b1644c32ba8312ef4266c474",
       "version_major": 2,
       "version_minor": 0
      },
      "text/plain": [
       "Epoch 1/100:   0%|          | 0/826 [00:00<?, ?it/s]"
      ]
     },
     "metadata": {},
     "output_type": "display_data"
    },
    {
     "name": "stdout",
     "output_type": "stream",
     "text": [
      "Training Loss: 1.3627023460934296\n",
      "Validation Loss: 1.3197,\n",
      "Validation Accuracy: 0.4764,\n",
      "Precision: 0.2270,\n",
      "Recall: 0.4764,\n",
      "F1 Score: 0.3074\n"
     ]
    },
    {
     "name": "stderr",
     "output_type": "stream",
     "text": [
      "/home/salvatore/.local/lib/python3.10/site-packages/sklearn/metrics/_classification.py:1565: UndefinedMetricWarning: Precision is ill-defined and being set to 0.0 in labels with no predicted samples. Use `zero_division` parameter to control this behavior.\n",
      "  _warn_prf(average, modifier, f\"{metric.capitalize()} is\", len(result))\n"
     ]
    },
    {
     "data": {
      "application/vnd.jupyter.widget-view+json": {
       "model_id": "422b51a179b64a1cacc6d2685bcd014a",
       "version_major": 2,
       "version_minor": 0
      },
      "text/plain": [
       "Epoch 2/100:   0%|          | 0/826 [00:00<?, ?it/s]"
      ]
     },
     "metadata": {},
     "output_type": "display_data"
    },
    {
     "name": "stdout",
     "output_type": "stream",
     "text": [
      "Training Loss: 1.3482538341177\n",
      "Validation Loss: 1.3245,\n",
      "Validation Accuracy: 0.4764,\n",
      "Precision: 0.2270,\n",
      "Recall: 0.4764,\n",
      "F1 Score: 0.3074\n"
     ]
    },
    {
     "name": "stderr",
     "output_type": "stream",
     "text": [
      "/home/salvatore/.local/lib/python3.10/site-packages/sklearn/metrics/_classification.py:1565: UndefinedMetricWarning: Precision is ill-defined and being set to 0.0 in labels with no predicted samples. Use `zero_division` parameter to control this behavior.\n",
      "  _warn_prf(average, modifier, f\"{metric.capitalize()} is\", len(result))\n"
     ]
    },
    {
     "data": {
      "application/vnd.jupyter.widget-view+json": {
       "model_id": "b6e47a19476a47569c6b809eddbcbcec",
       "version_major": 2,
       "version_minor": 0
      },
      "text/plain": [
       "Epoch 3/100:   0%|          | 0/826 [00:00<?, ?it/s]"
      ]
     },
     "metadata": {},
     "output_type": "display_data"
    },
    {
     "name": "stdout",
     "output_type": "stream",
     "text": [
      "Training Loss: 1.3478209308504192\n",
      "Validation Loss: 1.3200,\n",
      "Validation Accuracy: 0.4764,\n",
      "Precision: 0.2270,\n",
      "Recall: 0.4764,\n",
      "F1 Score: 0.3074\n"
     ]
    },
    {
     "name": "stderr",
     "output_type": "stream",
     "text": [
      "/home/salvatore/.local/lib/python3.10/site-packages/sklearn/metrics/_classification.py:1565: UndefinedMetricWarning: Precision is ill-defined and being set to 0.0 in labels with no predicted samples. Use `zero_division` parameter to control this behavior.\n",
      "  _warn_prf(average, modifier, f\"{metric.capitalize()} is\", len(result))\n"
     ]
    },
    {
     "data": {
      "application/vnd.jupyter.widget-view+json": {
       "model_id": "81ea28f809a441e98f92426c298dff14",
       "version_major": 2,
       "version_minor": 0
      },
      "text/plain": [
       "Epoch 4/100:   0%|          | 0/826 [00:00<?, ?it/s]"
      ]
     },
     "metadata": {},
     "output_type": "display_data"
    },
    {
     "name": "stdout",
     "output_type": "stream",
     "text": [
      "Training Loss: 1.3473285404879591\n",
      "Validation Loss: 1.3218,\n",
      "Validation Accuracy: 0.4764,\n",
      "Precision: 0.2270,\n",
      "Recall: 0.4764,\n",
      "F1 Score: 0.3074\n"
     ]
    },
    {
     "name": "stderr",
     "output_type": "stream",
     "text": [
      "/home/salvatore/.local/lib/python3.10/site-packages/sklearn/metrics/_classification.py:1565: UndefinedMetricWarning: Precision is ill-defined and being set to 0.0 in labels with no predicted samples. Use `zero_division` parameter to control this behavior.\n",
      "  _warn_prf(average, modifier, f\"{metric.capitalize()} is\", len(result))\n"
     ]
    },
    {
     "data": {
      "application/vnd.jupyter.widget-view+json": {
       "model_id": "93c36622b25c4d28aaecfc51e89e916c",
       "version_major": 2,
       "version_minor": 0
      },
      "text/plain": [
       "Epoch 5/100:   0%|          | 0/826 [00:00<?, ?it/s]"
      ]
     },
     "metadata": {},
     "output_type": "display_data"
    },
    {
     "name": "stdout",
     "output_type": "stream",
     "text": [
      "Training Loss: 1.3472097870368358\n",
      "Validation Loss: 1.3220,\n",
      "Validation Accuracy: 0.4764,\n",
      "Precision: 0.2270,\n",
      "Recall: 0.4764,\n",
      "F1 Score: 0.3074\n"
     ]
    },
    {
     "name": "stderr",
     "output_type": "stream",
     "text": [
      "/home/salvatore/.local/lib/python3.10/site-packages/sklearn/metrics/_classification.py:1565: UndefinedMetricWarning: Precision is ill-defined and being set to 0.0 in labels with no predicted samples. Use `zero_division` parameter to control this behavior.\n",
      "  _warn_prf(average, modifier, f\"{metric.capitalize()} is\", len(result))\n"
     ]
    },
    {
     "data": {
      "application/vnd.jupyter.widget-view+json": {
       "model_id": "7be729e0b1e645d99982668cdffc9646",
       "version_major": 2,
       "version_minor": 0
      },
      "text/plain": [
       "Epoch 6/100:   0%|          | 0/826 [00:00<?, ?it/s]"
      ]
     },
     "metadata": {},
     "output_type": "display_data"
    },
    {
     "name": "stdout",
     "output_type": "stream",
     "text": [
      "Training Loss: 1.3486559494211368\n",
      "Validation Loss: 1.3207,\n",
      "Validation Accuracy: 0.4764,\n",
      "Precision: 0.2270,\n",
      "Recall: 0.4764,\n",
      "F1 Score: 0.3074\n"
     ]
    },
    {
     "name": "stderr",
     "output_type": "stream",
     "text": [
      "/home/salvatore/.local/lib/python3.10/site-packages/sklearn/metrics/_classification.py:1565: UndefinedMetricWarning: Precision is ill-defined and being set to 0.0 in labels with no predicted samples. Use `zero_division` parameter to control this behavior.\n",
      "  _warn_prf(average, modifier, f\"{metric.capitalize()} is\", len(result))\n"
     ]
    },
    {
     "data": {
      "application/vnd.jupyter.widget-view+json": {
       "model_id": "c773ce031ab74fb48cea122f9cac318d",
       "version_major": 2,
       "version_minor": 0
      },
      "text/plain": [
       "Epoch 7/100:   0%|          | 0/826 [00:00<?, ?it/s]"
      ]
     },
     "metadata": {},
     "output_type": "display_data"
    },
    {
     "name": "stdout",
     "output_type": "stream",
     "text": [
      "Training Loss: 1.346317372223944\n",
      "Validation Loss: 1.3194,\n",
      "Validation Accuracy: 0.4764,\n",
      "Precision: 0.2270,\n",
      "Recall: 0.4764,\n",
      "F1 Score: 0.3074\n"
     ]
    },
    {
     "name": "stderr",
     "output_type": "stream",
     "text": [
      "/home/salvatore/.local/lib/python3.10/site-packages/sklearn/metrics/_classification.py:1565: UndefinedMetricWarning: Precision is ill-defined and being set to 0.0 in labels with no predicted samples. Use `zero_division` parameter to control this behavior.\n",
      "  _warn_prf(average, modifier, f\"{metric.capitalize()} is\", len(result))\n"
     ]
    },
    {
     "data": {
      "application/vnd.jupyter.widget-view+json": {
       "model_id": "2b6da70deb4746b3960dd85589a40f9d",
       "version_major": 2,
       "version_minor": 0
      },
      "text/plain": [
       "Epoch 8/100:   0%|          | 0/826 [00:00<?, ?it/s]"
      ]
     },
     "metadata": {},
     "output_type": "display_data"
    },
    {
     "name": "stdout",
     "output_type": "stream",
     "text": [
      "Training Loss: 1.3472225289367878\n",
      "Validation Loss: 1.3195,\n",
      "Validation Accuracy: 0.4764,\n",
      "Precision: 0.2270,\n",
      "Recall: 0.4764,\n",
      "F1 Score: 0.3074\n"
     ]
    },
    {
     "name": "stderr",
     "output_type": "stream",
     "text": [
      "/home/salvatore/.local/lib/python3.10/site-packages/sklearn/metrics/_classification.py:1565: UndefinedMetricWarning: Precision is ill-defined and being set to 0.0 in labels with no predicted samples. Use `zero_division` parameter to control this behavior.\n",
      "  _warn_prf(average, modifier, f\"{metric.capitalize()} is\", len(result))\n"
     ]
    },
    {
     "data": {
      "application/vnd.jupyter.widget-view+json": {
       "model_id": "0141153e170d43aba710ee9044d5497a",
       "version_major": 2,
       "version_minor": 0
      },
      "text/plain": [
       "Epoch 9/100:   0%|          | 0/826 [00:00<?, ?it/s]"
      ]
     },
     "metadata": {},
     "output_type": "display_data"
    },
    {
     "name": "stdout",
     "output_type": "stream",
     "text": [
      "Training Loss: 1.3465554862132083\n",
      "Validation Loss: 1.3201,\n",
      "Validation Accuracy: 0.4764,\n",
      "Precision: 0.2270,\n",
      "Recall: 0.4764,\n",
      "F1 Score: 0.3074\n"
     ]
    },
    {
     "name": "stderr",
     "output_type": "stream",
     "text": [
      "/home/salvatore/.local/lib/python3.10/site-packages/sklearn/metrics/_classification.py:1565: UndefinedMetricWarning: Precision is ill-defined and being set to 0.0 in labels with no predicted samples. Use `zero_division` parameter to control this behavior.\n",
      "  _warn_prf(average, modifier, f\"{metric.capitalize()} is\", len(result))\n"
     ]
    },
    {
     "data": {
      "application/vnd.jupyter.widget-view+json": {
       "model_id": "8f3bb7751373460a920d98c57c6620ce",
       "version_major": 2,
       "version_minor": 0
      },
      "text/plain": [
       "Epoch 10/100:   0%|          | 0/826 [00:00<?, ?it/s]"
      ]
     },
     "metadata": {},
     "output_type": "display_data"
    },
    {
     "name": "stdout",
     "output_type": "stream",
     "text": [
      "Training Loss: 1.3472891993297502\n",
      "Validation Loss: 1.3316,\n",
      "Validation Accuracy: 0.4764,\n",
      "Precision: 0.2270,\n",
      "Recall: 0.4764,\n",
      "F1 Score: 0.3074\n"
     ]
    },
    {
     "name": "stderr",
     "output_type": "stream",
     "text": [
      "/home/salvatore/.local/lib/python3.10/site-packages/sklearn/metrics/_classification.py:1565: UndefinedMetricWarning: Precision is ill-defined and being set to 0.0 in labels with no predicted samples. Use `zero_division` parameter to control this behavior.\n",
      "  _warn_prf(average, modifier, f\"{metric.capitalize()} is\", len(result))\n"
     ]
    },
    {
     "data": {
      "application/vnd.jupyter.widget-view+json": {
       "model_id": "bb97c291822348d19370f6093f297194",
       "version_major": 2,
       "version_minor": 0
      },
      "text/plain": [
       "Epoch 11/100:   0%|          | 0/826 [00:00<?, ?it/s]"
      ]
     },
     "metadata": {},
     "output_type": "display_data"
    },
    {
     "name": "stdout",
     "output_type": "stream",
     "text": [
      "Training Loss: 1.3473049443368472\n",
      "Validation Loss: 1.3202,\n",
      "Validation Accuracy: 0.4764,\n",
      "Precision: 0.2270,\n",
      "Recall: 0.4764,\n",
      "F1 Score: 0.3074\n"
     ]
    },
    {
     "name": "stderr",
     "output_type": "stream",
     "text": [
      "/home/salvatore/.local/lib/python3.10/site-packages/sklearn/metrics/_classification.py:1565: UndefinedMetricWarning: Precision is ill-defined and being set to 0.0 in labels with no predicted samples. Use `zero_division` parameter to control this behavior.\n",
      "  _warn_prf(average, modifier, f\"{metric.capitalize()} is\", len(result))\n"
     ]
    },
    {
     "data": {
      "application/vnd.jupyter.widget-view+json": {
       "model_id": "fcf520d9bb9a4f8d91a0273e71e255de",
       "version_major": 2,
       "version_minor": 0
      },
      "text/plain": [
       "Epoch 12/100:   0%|          | 0/826 [00:00<?, ?it/s]"
      ]
     },
     "metadata": {},
     "output_type": "display_data"
    },
    {
     "name": "stdout",
     "output_type": "stream",
     "text": [
      "Training Loss: 1.3464915091419913\n",
      "Validation Loss: 1.3192,\n",
      "Validation Accuracy: 0.4764,\n",
      "Precision: 0.2270,\n",
      "Recall: 0.4764,\n",
      "F1 Score: 0.3074\n"
     ]
    },
    {
     "name": "stderr",
     "output_type": "stream",
     "text": [
      "/home/salvatore/.local/lib/python3.10/site-packages/sklearn/metrics/_classification.py:1565: UndefinedMetricWarning: Precision is ill-defined and being set to 0.0 in labels with no predicted samples. Use `zero_division` parameter to control this behavior.\n",
      "  _warn_prf(average, modifier, f\"{metric.capitalize()} is\", len(result))\n"
     ]
    },
    {
     "data": {
      "application/vnd.jupyter.widget-view+json": {
       "model_id": "e95d1aaf63034673a6464ed63d0421e1",
       "version_major": 2,
       "version_minor": 0
      },
      "text/plain": [
       "Epoch 13/100:   0%|          | 0/826 [00:00<?, ?it/s]"
      ]
     },
     "metadata": {},
     "output_type": "display_data"
    },
    {
     "name": "stdout",
     "output_type": "stream",
     "text": [
      "Training Loss: 1.347910535609751\n",
      "Validation Loss: 1.3243,\n",
      "Validation Accuracy: 0.4764,\n",
      "Precision: 0.2270,\n",
      "Recall: 0.4764,\n",
      "F1 Score: 0.3074\n"
     ]
    },
    {
     "name": "stderr",
     "output_type": "stream",
     "text": [
      "/home/salvatore/.local/lib/python3.10/site-packages/sklearn/metrics/_classification.py:1565: UndefinedMetricWarning: Precision is ill-defined and being set to 0.0 in labels with no predicted samples. Use `zero_division` parameter to control this behavior.\n",
      "  _warn_prf(average, modifier, f\"{metric.capitalize()} is\", len(result))\n"
     ]
    },
    {
     "data": {
      "application/vnd.jupyter.widget-view+json": {
       "model_id": "d2191460c44f49529413a487a74c51fa",
       "version_major": 2,
       "version_minor": 0
      },
      "text/plain": [
       "Epoch 14/100:   0%|          | 0/826 [00:00<?, ?it/s]"
      ]
     },
     "metadata": {},
     "output_type": "display_data"
    },
    {
     "name": "stdout",
     "output_type": "stream",
     "text": [
      "Training Loss: 1.3460070493723522\n",
      "Validation Loss: 1.3234,\n",
      "Validation Accuracy: 0.4764,\n",
      "Precision: 0.2270,\n",
      "Recall: 0.4764,\n",
      "F1 Score: 0.3074\n"
     ]
    },
    {
     "name": "stderr",
     "output_type": "stream",
     "text": [
      "/home/salvatore/.local/lib/python3.10/site-packages/sklearn/metrics/_classification.py:1565: UndefinedMetricWarning: Precision is ill-defined and being set to 0.0 in labels with no predicted samples. Use `zero_division` parameter to control this behavior.\n",
      "  _warn_prf(average, modifier, f\"{metric.capitalize()} is\", len(result))\n"
     ]
    },
    {
     "data": {
      "application/vnd.jupyter.widget-view+json": {
       "model_id": "ddbff63f470747dc96415021037191c8",
       "version_major": 2,
       "version_minor": 0
      },
      "text/plain": [
       "Epoch 15/100:   0%|          | 0/826 [00:00<?, ?it/s]"
      ]
     },
     "metadata": {},
     "output_type": "display_data"
    },
    {
     "name": "stdout",
     "output_type": "stream",
     "text": [
      "Training Loss: 1.346508203060806\n",
      "Validation Loss: 1.3232,\n",
      "Validation Accuracy: 0.4764,\n",
      "Precision: 0.2270,\n",
      "Recall: 0.4764,\n",
      "F1 Score: 0.3074\n"
     ]
    },
    {
     "name": "stderr",
     "output_type": "stream",
     "text": [
      "/home/salvatore/.local/lib/python3.10/site-packages/sklearn/metrics/_classification.py:1565: UndefinedMetricWarning: Precision is ill-defined and being set to 0.0 in labels with no predicted samples. Use `zero_division` parameter to control this behavior.\n",
      "  _warn_prf(average, modifier, f\"{metric.capitalize()} is\", len(result))\n"
     ]
    },
    {
     "data": {
      "application/vnd.jupyter.widget-view+json": {
       "model_id": "c0beaa41350a473babfa885260fa5906",
       "version_major": 2,
       "version_minor": 0
      },
      "text/plain": [
       "Epoch 16/100:   0%|          | 0/826 [00:00<?, ?it/s]"
      ]
     },
     "metadata": {},
     "output_type": "display_data"
    },
    {
     "name": "stdout",
     "output_type": "stream",
     "text": [
      "Training Loss: 1.346599209900341\n",
      "Validation Loss: 1.3196,\n",
      "Validation Accuracy: 0.4764,\n",
      "Precision: 0.2270,\n",
      "Recall: 0.4764,\n",
      "F1 Score: 0.3074\n"
     ]
    },
    {
     "name": "stderr",
     "output_type": "stream",
     "text": [
      "/home/salvatore/.local/lib/python3.10/site-packages/sklearn/metrics/_classification.py:1565: UndefinedMetricWarning: Precision is ill-defined and being set to 0.0 in labels with no predicted samples. Use `zero_division` parameter to control this behavior.\n",
      "  _warn_prf(average, modifier, f\"{metric.capitalize()} is\", len(result))\n"
     ]
    },
    {
     "data": {
      "application/vnd.jupyter.widget-view+json": {
       "model_id": "57efc1f08ffc4cabbf91680f9b1a6edf",
       "version_major": 2,
       "version_minor": 0
      },
      "text/plain": [
       "Epoch 17/100:   0%|          | 0/826 [00:00<?, ?it/s]"
      ]
     },
     "metadata": {},
     "output_type": "display_data"
    },
    {
     "name": "stdout",
     "output_type": "stream",
     "text": [
      "Training Loss: 1.3461337790217873\n",
      "Validation Loss: 1.3189,\n",
      "Validation Accuracy: 0.4764,\n",
      "Precision: 0.2270,\n",
      "Recall: 0.4764,\n",
      "F1 Score: 0.3074\n"
     ]
    },
    {
     "name": "stderr",
     "output_type": "stream",
     "text": [
      "/home/salvatore/.local/lib/python3.10/site-packages/sklearn/metrics/_classification.py:1565: UndefinedMetricWarning: Precision is ill-defined and being set to 0.0 in labels with no predicted samples. Use `zero_division` parameter to control this behavior.\n",
      "  _warn_prf(average, modifier, f\"{metric.capitalize()} is\", len(result))\n"
     ]
    },
    {
     "data": {
      "application/vnd.jupyter.widget-view+json": {
       "model_id": "e6d2d4d346dc45c49b9229e109936f51",
       "version_major": 2,
       "version_minor": 0
      },
      "text/plain": [
       "Epoch 18/100:   0%|          | 0/826 [00:00<?, ?it/s]"
      ]
     },
     "metadata": {},
     "output_type": "display_data"
    },
    {
     "name": "stdout",
     "output_type": "stream",
     "text": [
      "Training Loss: 1.3471940557402502\n",
      "Validation Loss: 1.3193,\n",
      "Validation Accuracy: 0.4764,\n",
      "Precision: 0.2270,\n",
      "Recall: 0.4764,\n",
      "F1 Score: 0.3074\n"
     ]
    },
    {
     "name": "stderr",
     "output_type": "stream",
     "text": [
      "/home/salvatore/.local/lib/python3.10/site-packages/sklearn/metrics/_classification.py:1565: UndefinedMetricWarning: Precision is ill-defined and being set to 0.0 in labels with no predicted samples. Use `zero_division` parameter to control this behavior.\n",
      "  _warn_prf(average, modifier, f\"{metric.capitalize()} is\", len(result))\n"
     ]
    },
    {
     "data": {
      "application/vnd.jupyter.widget-view+json": {
       "model_id": "0d60e44d60fd4f2daadbf1eef42f9bec",
       "version_major": 2,
       "version_minor": 0
      },
      "text/plain": [
       "Epoch 19/100:   0%|          | 0/826 [00:00<?, ?it/s]"
      ]
     },
     "metadata": {},
     "output_type": "display_data"
    },
    {
     "name": "stdout",
     "output_type": "stream",
     "text": [
      "Training Loss: 1.3457241704186862\n",
      "Validation Loss: 1.3219,\n",
      "Validation Accuracy: 0.4764,\n",
      "Precision: 0.2270,\n",
      "Recall: 0.4764,\n",
      "F1 Score: 0.3074\n"
     ]
    },
    {
     "name": "stderr",
     "output_type": "stream",
     "text": [
      "/home/salvatore/.local/lib/python3.10/site-packages/sklearn/metrics/_classification.py:1565: UndefinedMetricWarning: Precision is ill-defined and being set to 0.0 in labels with no predicted samples. Use `zero_division` parameter to control this behavior.\n",
      "  _warn_prf(average, modifier, f\"{metric.capitalize()} is\", len(result))\n"
     ]
    },
    {
     "data": {
      "application/vnd.jupyter.widget-view+json": {
       "model_id": "96ca18144d5a4f9f99ba19fae3670c45",
       "version_major": 2,
       "version_minor": 0
      },
      "text/plain": [
       "Epoch 20/100:   0%|          | 0/826 [00:00<?, ?it/s]"
      ]
     },
     "metadata": {},
     "output_type": "display_data"
    },
    {
     "name": "stdout",
     "output_type": "stream",
     "text": [
      "Training Loss: 1.346626610357594\n",
      "Validation Loss: 1.3206,\n",
      "Validation Accuracy: 0.4764,\n",
      "Precision: 0.2270,\n",
      "Recall: 0.4764,\n",
      "F1 Score: 0.3074\n"
     ]
    },
    {
     "name": "stderr",
     "output_type": "stream",
     "text": [
      "/home/salvatore/.local/lib/python3.10/site-packages/sklearn/metrics/_classification.py:1565: UndefinedMetricWarning: Precision is ill-defined and being set to 0.0 in labels with no predicted samples. Use `zero_division` parameter to control this behavior.\n",
      "  _warn_prf(average, modifier, f\"{metric.capitalize()} is\", len(result))\n"
     ]
    },
    {
     "data": {
      "application/vnd.jupyter.widget-view+json": {
       "model_id": "40f97db622654bcab5da92355edb357b",
       "version_major": 2,
       "version_minor": 0
      },
      "text/plain": [
       "Epoch 21/100:   0%|          | 0/826 [00:00<?, ?it/s]"
      ]
     },
     "metadata": {},
     "output_type": "display_data"
    },
    {
     "name": "stdout",
     "output_type": "stream",
     "text": [
      "Training Loss: 1.3460616712564417\n",
      "Validation Loss: 1.3204,\n",
      "Validation Accuracy: 0.4764,\n",
      "Precision: 0.2270,\n",
      "Recall: 0.4764,\n",
      "F1 Score: 0.3074\n"
     ]
    },
    {
     "name": "stderr",
     "output_type": "stream",
     "text": [
      "/home/salvatore/.local/lib/python3.10/site-packages/sklearn/metrics/_classification.py:1565: UndefinedMetricWarning: Precision is ill-defined and being set to 0.0 in labels with no predicted samples. Use `zero_division` parameter to control this behavior.\n",
      "  _warn_prf(average, modifier, f\"{metric.capitalize()} is\", len(result))\n"
     ]
    },
    {
     "data": {
      "application/vnd.jupyter.widget-view+json": {
       "model_id": "3ebdb7d83b4f48518aa66b4388a116d9",
       "version_major": 2,
       "version_minor": 0
      },
      "text/plain": [
       "Epoch 22/100:   0%|          | 0/826 [00:00<?, ?it/s]"
      ]
     },
     "metadata": {},
     "output_type": "display_data"
    },
    {
     "name": "stdout",
     "output_type": "stream",
     "text": [
      "Training Loss: 1.3457901238962178\n",
      "Validation Loss: 1.3206,\n",
      "Validation Accuracy: 0.4764,\n",
      "Precision: 0.2270,\n",
      "Recall: 0.4764,\n",
      "F1 Score: 0.3074\n"
     ]
    },
    {
     "name": "stderr",
     "output_type": "stream",
     "text": [
      "/home/salvatore/.local/lib/python3.10/site-packages/sklearn/metrics/_classification.py:1565: UndefinedMetricWarning: Precision is ill-defined and being set to 0.0 in labels with no predicted samples. Use `zero_division` parameter to control this behavior.\n",
      "  _warn_prf(average, modifier, f\"{metric.capitalize()} is\", len(result))\n"
     ]
    },
    {
     "data": {
      "application/vnd.jupyter.widget-view+json": {
       "model_id": "21b6fe3430c4424fb405f9c55cac7788",
       "version_major": 2,
       "version_minor": 0
      },
      "text/plain": [
       "Epoch 23/100:   0%|          | 0/826 [00:00<?, ?it/s]"
      ]
     },
     "metadata": {},
     "output_type": "display_data"
    },
    {
     "name": "stdout",
     "output_type": "stream",
     "text": [
      "Training Loss: 1.346195072079975\n",
      "Validation Loss: 1.3199,\n",
      "Validation Accuracy: 0.4764,\n",
      "Precision: 0.2270,\n",
      "Recall: 0.4764,\n",
      "F1 Score: 0.3074\n"
     ]
    },
    {
     "name": "stderr",
     "output_type": "stream",
     "text": [
      "/home/salvatore/.local/lib/python3.10/site-packages/sklearn/metrics/_classification.py:1565: UndefinedMetricWarning: Precision is ill-defined and being set to 0.0 in labels with no predicted samples. Use `zero_division` parameter to control this behavior.\n",
      "  _warn_prf(average, modifier, f\"{metric.capitalize()} is\", len(result))\n"
     ]
    },
    {
     "data": {
      "application/vnd.jupyter.widget-view+json": {
       "model_id": "75c8417c20774fe8800a7dd59574d55d",
       "version_major": 2,
       "version_minor": 0
      },
      "text/plain": [
       "Epoch 24/100:   0%|          | 0/826 [00:00<?, ?it/s]"
      ]
     },
     "metadata": {},
     "output_type": "display_data"
    },
    {
     "name": "stdout",
     "output_type": "stream",
     "text": [
      "Training Loss: 1.3460070679897835\n",
      "Validation Loss: 1.3727,\n",
      "Validation Accuracy: 0.4579,\n",
      "Precision: 0.2371,\n",
      "Recall: 0.4579,\n",
      "F1 Score: 0.3109\n"
     ]
    },
    {
     "name": "stderr",
     "output_type": "stream",
     "text": [
      "/home/salvatore/.local/lib/python3.10/site-packages/sklearn/metrics/_classification.py:1565: UndefinedMetricWarning: Precision is ill-defined and being set to 0.0 in labels with no predicted samples. Use `zero_division` parameter to control this behavior.\n",
      "  _warn_prf(average, modifier, f\"{metric.capitalize()} is\", len(result))\n"
     ]
    },
    {
     "data": {
      "application/vnd.jupyter.widget-view+json": {
       "model_id": "fe2b551d086141f28e2e6e0a67acf2a4",
       "version_major": 2,
       "version_minor": 0
      },
      "text/plain": [
       "Epoch 25/100:   0%|          | 0/826 [00:00<?, ?it/s]"
      ]
     },
     "metadata": {},
     "output_type": "display_data"
    },
    {
     "name": "stdout",
     "output_type": "stream",
     "text": [
      "Training Loss: 1.3470902560553886\n",
      "Validation Loss: 1.3203,\n",
      "Validation Accuracy: 0.4764,\n",
      "Precision: 0.2270,\n",
      "Recall: 0.4764,\n",
      "F1 Score: 0.3074\n"
     ]
    },
    {
     "name": "stderr",
     "output_type": "stream",
     "text": [
      "/home/salvatore/.local/lib/python3.10/site-packages/sklearn/metrics/_classification.py:1565: UndefinedMetricWarning: Precision is ill-defined and being set to 0.0 in labels with no predicted samples. Use `zero_division` parameter to control this behavior.\n",
      "  _warn_prf(average, modifier, f\"{metric.capitalize()} is\", len(result))\n"
     ]
    },
    {
     "data": {
      "application/vnd.jupyter.widget-view+json": {
       "model_id": "fab0d58228de43ada5ca401aa1d45aa7",
       "version_major": 2,
       "version_minor": 0
      },
      "text/plain": [
       "Epoch 26/100:   0%|          | 0/826 [00:00<?, ?it/s]"
      ]
     },
     "metadata": {},
     "output_type": "display_data"
    },
    {
     "name": "stdout",
     "output_type": "stream",
     "text": [
      "Training Loss: 1.3446269881061435\n",
      "Validation Loss: 1.3208,\n",
      "Validation Accuracy: 0.4764,\n",
      "Precision: 0.2270,\n",
      "Recall: 0.4764,\n",
      "F1 Score: 0.3074\n"
     ]
    },
    {
     "name": "stderr",
     "output_type": "stream",
     "text": [
      "/home/salvatore/.local/lib/python3.10/site-packages/sklearn/metrics/_classification.py:1565: UndefinedMetricWarning: Precision is ill-defined and being set to 0.0 in labels with no predicted samples. Use `zero_division` parameter to control this behavior.\n",
      "  _warn_prf(average, modifier, f\"{metric.capitalize()} is\", len(result))\n"
     ]
    },
    {
     "data": {
      "application/vnd.jupyter.widget-view+json": {
       "model_id": "22a6666457ea49a8a1a5d5d886444df4",
       "version_major": 2,
       "version_minor": 0
      },
      "text/plain": [
       "Epoch 27/100:   0%|          | 0/826 [00:00<?, ?it/s]"
      ]
     },
     "metadata": {},
     "output_type": "display_data"
    },
    {
     "name": "stdout",
     "output_type": "stream",
     "text": [
      "Training Loss: 1.345618075738519\n",
      "Validation Loss: 1.3201,\n",
      "Validation Accuracy: 0.4764,\n",
      "Precision: 0.2270,\n",
      "Recall: 0.4764,\n",
      "F1 Score: 0.3074\n"
     ]
    },
    {
     "name": "stderr",
     "output_type": "stream",
     "text": [
      "/home/salvatore/.local/lib/python3.10/site-packages/sklearn/metrics/_classification.py:1565: UndefinedMetricWarning: Precision is ill-defined and being set to 0.0 in labels with no predicted samples. Use `zero_division` parameter to control this behavior.\n",
      "  _warn_prf(average, modifier, f\"{metric.capitalize()} is\", len(result))\n"
     ]
    },
    {
     "data": {
      "application/vnd.jupyter.widget-view+json": {
       "model_id": "9dae315993024bca9bf03fd7825a5988",
       "version_major": 2,
       "version_minor": 0
      },
      "text/plain": [
       "Epoch 28/100:   0%|          | 0/826 [00:00<?, ?it/s]"
      ]
     },
     "metadata": {},
     "output_type": "display_data"
    },
    {
     "name": "stdout",
     "output_type": "stream",
     "text": [
      "Training Loss: 1.3435132697621501\n",
      "Validation Loss: 1.3203,\n",
      "Validation Accuracy: 0.4764,\n",
      "Precision: 0.2270,\n",
      "Recall: 0.4764,\n",
      "F1 Score: 0.3074\n"
     ]
    },
    {
     "name": "stderr",
     "output_type": "stream",
     "text": [
      "/home/salvatore/.local/lib/python3.10/site-packages/sklearn/metrics/_classification.py:1565: UndefinedMetricWarning: Precision is ill-defined and being set to 0.0 in labels with no predicted samples. Use `zero_division` parameter to control this behavior.\n",
      "  _warn_prf(average, modifier, f\"{metric.capitalize()} is\", len(result))\n"
     ]
    },
    {
     "data": {
      "application/vnd.jupyter.widget-view+json": {
       "model_id": "0b69fc1bd4c84504b997bf9ea82f803d",
       "version_major": 2,
       "version_minor": 0
      },
      "text/plain": [
       "Epoch 29/100:   0%|          | 0/826 [00:00<?, ?it/s]"
      ]
     },
     "metadata": {},
     "output_type": "display_data"
    },
    {
     "name": "stdout",
     "output_type": "stream",
     "text": [
      "Training Loss: 1.3434857567343816\n",
      "Validation Loss: 1.3204,\n",
      "Validation Accuracy: 0.4764,\n",
      "Precision: 0.2270,\n",
      "Recall: 0.4764,\n",
      "F1 Score: 0.3074\n"
     ]
    },
    {
     "name": "stderr",
     "output_type": "stream",
     "text": [
      "/home/salvatore/.local/lib/python3.10/site-packages/sklearn/metrics/_classification.py:1565: UndefinedMetricWarning: Precision is ill-defined and being set to 0.0 in labels with no predicted samples. Use `zero_division` parameter to control this behavior.\n",
      "  _warn_prf(average, modifier, f\"{metric.capitalize()} is\", len(result))\n"
     ]
    },
    {
     "data": {
      "application/vnd.jupyter.widget-view+json": {
       "model_id": "8539e16a2b7a45afa3f07ddc9e849c1c",
       "version_major": 2,
       "version_minor": 0
      },
      "text/plain": [
       "Epoch 30/100:   0%|          | 0/826 [00:00<?, ?it/s]"
      ]
     },
     "metadata": {},
     "output_type": "display_data"
    },
    {
     "name": "stdout",
     "output_type": "stream",
     "text": [
      "Training Loss: 1.3446049544482197\n",
      "Validation Loss: 1.3184,\n",
      "Validation Accuracy: 0.4764,\n",
      "Precision: 0.2270,\n",
      "Recall: 0.4764,\n",
      "F1 Score: 0.3074\n"
     ]
    },
    {
     "name": "stderr",
     "output_type": "stream",
     "text": [
      "/home/salvatore/.local/lib/python3.10/site-packages/sklearn/metrics/_classification.py:1565: UndefinedMetricWarning: Precision is ill-defined and being set to 0.0 in labels with no predicted samples. Use `zero_division` parameter to control this behavior.\n",
      "  _warn_prf(average, modifier, f\"{metric.capitalize()} is\", len(result))\n"
     ]
    },
    {
     "data": {
      "application/vnd.jupyter.widget-view+json": {
       "model_id": "45ec149c6f044e099c0a7b041e6f5d34",
       "version_major": 2,
       "version_minor": 0
      },
      "text/plain": [
       "Epoch 31/100:   0%|          | 0/826 [00:00<?, ?it/s]"
      ]
     },
     "metadata": {},
     "output_type": "display_data"
    },
    {
     "name": "stdout",
     "output_type": "stream",
     "text": [
      "Training Loss: 1.3445762302771607\n",
      "Validation Loss: 1.3333,\n",
      "Validation Accuracy: 0.4708,\n",
      "Precision: 0.2391,\n",
      "Recall: 0.4708,\n",
      "F1 Score: 0.3109\n"
     ]
    },
    {
     "name": "stderr",
     "output_type": "stream",
     "text": [
      "/home/salvatore/.local/lib/python3.10/site-packages/sklearn/metrics/_classification.py:1565: UndefinedMetricWarning: Precision is ill-defined and being set to 0.0 in labels with no predicted samples. Use `zero_division` parameter to control this behavior.\n",
      "  _warn_prf(average, modifier, f\"{metric.capitalize()} is\", len(result))\n"
     ]
    },
    {
     "data": {
      "application/vnd.jupyter.widget-view+json": {
       "model_id": "e4c9275fc20749fa99941c1f6431360e",
       "version_major": 2,
       "version_minor": 0
      },
      "text/plain": [
       "Epoch 32/100:   0%|          | 0/826 [00:00<?, ?it/s]"
      ]
     },
     "metadata": {},
     "output_type": "display_data"
    },
    {
     "name": "stdout",
     "output_type": "stream",
     "text": [
      "Training Loss: 1.3457974106722825\n",
      "Validation Loss: 1.3186,\n",
      "Validation Accuracy: 0.4764,\n",
      "Precision: 0.2271,\n",
      "Recall: 0.4764,\n",
      "F1 Score: 0.3076\n"
     ]
    },
    {
     "name": "stderr",
     "output_type": "stream",
     "text": [
      "/home/salvatore/.local/lib/python3.10/site-packages/sklearn/metrics/_classification.py:1565: UndefinedMetricWarning: Precision is ill-defined and being set to 0.0 in labels with no predicted samples. Use `zero_division` parameter to control this behavior.\n",
      "  _warn_prf(average, modifier, f\"{metric.capitalize()} is\", len(result))\n"
     ]
    },
    {
     "data": {
      "application/vnd.jupyter.widget-view+json": {
       "model_id": "081474eb00204f62bb0389c3b37bddd8",
       "version_major": 2,
       "version_minor": 0
      },
      "text/plain": [
       "Epoch 33/100:   0%|          | 0/826 [00:00<?, ?it/s]"
      ]
     },
     "metadata": {},
     "output_type": "display_data"
    },
    {
     "name": "stdout",
     "output_type": "stream",
     "text": [
      "Training Loss: 1.3441152361922921\n",
      "Validation Loss: 1.3192,\n",
      "Validation Accuracy: 0.4768,\n",
      "Precision: 0.2759,\n",
      "Recall: 0.4768,\n",
      "F1 Score: 0.3087\n"
     ]
    },
    {
     "name": "stderr",
     "output_type": "stream",
     "text": [
      "/home/salvatore/.local/lib/python3.10/site-packages/sklearn/metrics/_classification.py:1565: UndefinedMetricWarning: Precision is ill-defined and being set to 0.0 in labels with no predicted samples. Use `zero_division` parameter to control this behavior.\n",
      "  _warn_prf(average, modifier, f\"{metric.capitalize()} is\", len(result))\n"
     ]
    },
    {
     "data": {
      "application/vnd.jupyter.widget-view+json": {
       "model_id": "db8a923f0761474bad2d031409ebd1ca",
       "version_major": 2,
       "version_minor": 0
      },
      "text/plain": [
       "Epoch 34/100:   0%|          | 0/826 [00:00<?, ?it/s]"
      ]
     },
     "metadata": {},
     "output_type": "display_data"
    },
    {
     "name": "stdout",
     "output_type": "stream",
     "text": [
      "Training Loss: 1.3420439746420263\n",
      "Validation Loss: 1.3198,\n",
      "Validation Accuracy: 0.4764,\n",
      "Precision: 0.2273,\n",
      "Recall: 0.4764,\n",
      "F1 Score: 0.3078\n"
     ]
    },
    {
     "name": "stderr",
     "output_type": "stream",
     "text": [
      "/home/salvatore/.local/lib/python3.10/site-packages/sklearn/metrics/_classification.py:1565: UndefinedMetricWarning: Precision is ill-defined and being set to 0.0 in labels with no predicted samples. Use `zero_division` parameter to control this behavior.\n",
      "  _warn_prf(average, modifier, f\"{metric.capitalize()} is\", len(result))\n"
     ]
    },
    {
     "data": {
      "application/vnd.jupyter.widget-view+json": {
       "model_id": "c3d2ebc56e144680a33a668971c10467",
       "version_major": 2,
       "version_minor": 0
      },
      "text/plain": [
       "Epoch 35/100:   0%|          | 0/826 [00:00<?, ?it/s]"
      ]
     },
     "metadata": {},
     "output_type": "display_data"
    },
    {
     "name": "stdout",
     "output_type": "stream",
     "text": [
      "Training Loss: 1.3415791043069114\n",
      "Validation Loss: 1.3207,\n",
      "Validation Accuracy: 0.4764,\n",
      "Precision: 0.3226,\n",
      "Recall: 0.4764,\n",
      "F1 Score: 0.3101\n"
     ]
    },
    {
     "name": "stderr",
     "output_type": "stream",
     "text": [
      "/home/salvatore/.local/lib/python3.10/site-packages/sklearn/metrics/_classification.py:1565: UndefinedMetricWarning: Precision is ill-defined and being set to 0.0 in labels with no predicted samples. Use `zero_division` parameter to control this behavior.\n",
      "  _warn_prf(average, modifier, f\"{metric.capitalize()} is\", len(result))\n"
     ]
    },
    {
     "data": {
      "application/vnd.jupyter.widget-view+json": {
       "model_id": "a870aba162f841a8803bd0688c65c0bb",
       "version_major": 2,
       "version_minor": 0
      },
      "text/plain": [
       "Epoch 36/100:   0%|          | 0/826 [00:00<?, ?it/s]"
      ]
     },
     "metadata": {},
     "output_type": "display_data"
    },
    {
     "name": "stdout",
     "output_type": "stream",
     "text": [
      "Training Loss: 1.3416696347422519\n",
      "Validation Loss: 1.3275,\n",
      "Validation Accuracy: 0.4725,\n",
      "Precision: 0.3125,\n",
      "Recall: 0.4725,\n",
      "F1 Score: 0.3110\n"
     ]
    },
    {
     "name": "stderr",
     "output_type": "stream",
     "text": [
      "/home/salvatore/.local/lib/python3.10/site-packages/sklearn/metrics/_classification.py:1565: UndefinedMetricWarning: Precision is ill-defined and being set to 0.0 in labels with no predicted samples. Use `zero_division` parameter to control this behavior.\n",
      "  _warn_prf(average, modifier, f\"{metric.capitalize()} is\", len(result))\n"
     ]
    },
    {
     "data": {
      "application/vnd.jupyter.widget-view+json": {
       "model_id": "937e440cbf0041efbf1c31a128ba5802",
       "version_major": 2,
       "version_minor": 0
      },
      "text/plain": [
       "Epoch 37/100:   0%|          | 0/826 [00:00<?, ?it/s]"
      ]
     },
     "metadata": {},
     "output_type": "display_data"
    },
    {
     "name": "stdout",
     "output_type": "stream",
     "text": [
      "Training Loss: 1.341331039444875\n",
      "Validation Loss: 1.3200,\n",
      "Validation Accuracy: 0.4768,\n",
      "Precision: 0.3953,\n",
      "Recall: 0.4768,\n",
      "F1 Score: 0.3118\n"
     ]
    },
    {
     "name": "stderr",
     "output_type": "stream",
     "text": [
      "/home/salvatore/.local/lib/python3.10/site-packages/sklearn/metrics/_classification.py:1565: UndefinedMetricWarning: Precision is ill-defined and being set to 0.0 in labels with no predicted samples. Use `zero_division` parameter to control this behavior.\n",
      "  _warn_prf(average, modifier, f\"{metric.capitalize()} is\", len(result))\n"
     ]
    },
    {
     "data": {
      "application/vnd.jupyter.widget-view+json": {
       "model_id": "d0d425adbf254f2cada01ab6e44c3a1d",
       "version_major": 2,
       "version_minor": 0
      },
      "text/plain": [
       "Epoch 38/100:   0%|          | 0/826 [00:00<?, ?it/s]"
      ]
     },
     "metadata": {},
     "output_type": "display_data"
    },
    {
     "name": "stdout",
     "output_type": "stream",
     "text": [
      "Training Loss: 1.3384274997665\n",
      "Validation Loss: 1.3204,\n",
      "Validation Accuracy: 0.4764,\n",
      "Precision: 0.2550,\n",
      "Recall: 0.4764,\n",
      "F1 Score: 0.3093\n"
     ]
    },
    {
     "name": "stderr",
     "output_type": "stream",
     "text": [
      "/home/salvatore/.local/lib/python3.10/site-packages/sklearn/metrics/_classification.py:1565: UndefinedMetricWarning: Precision is ill-defined and being set to 0.0 in labels with no predicted samples. Use `zero_division` parameter to control this behavior.\n",
      "  _warn_prf(average, modifier, f\"{metric.capitalize()} is\", len(result))\n"
     ]
    },
    {
     "data": {
      "application/vnd.jupyter.widget-view+json": {
       "model_id": "3751213b8b854e71b16c46463e1b41c8",
       "version_major": 2,
       "version_minor": 0
      },
      "text/plain": [
       "Epoch 39/100:   0%|          | 0/826 [00:00<?, ?it/s]"
      ]
     },
     "metadata": {},
     "output_type": "display_data"
    },
    {
     "name": "stdout",
     "output_type": "stream",
     "text": [
      "Training Loss: 1.3363595115647766\n",
      "Validation Loss: 1.3027,\n",
      "Validation Accuracy: 0.4777,\n",
      "Precision: 0.3183,\n",
      "Recall: 0.4777,\n",
      "F1 Score: 0.3161\n"
     ]
    },
    {
     "name": "stderr",
     "output_type": "stream",
     "text": [
      "/home/salvatore/.local/lib/python3.10/site-packages/sklearn/metrics/_classification.py:1565: UndefinedMetricWarning: Precision is ill-defined and being set to 0.0 in labels with no predicted samples. Use `zero_division` parameter to control this behavior.\n",
      "  _warn_prf(average, modifier, f\"{metric.capitalize()} is\", len(result))\n"
     ]
    },
    {
     "data": {
      "application/vnd.jupyter.widget-view+json": {
       "model_id": "bb3c817444584e0b9331709760bf0e99",
       "version_major": 2,
       "version_minor": 0
      },
      "text/plain": [
       "Epoch 40/100:   0%|          | 0/826 [00:00<?, ?it/s]"
      ]
     },
     "metadata": {},
     "output_type": "display_data"
    },
    {
     "name": "stdout",
     "output_type": "stream",
     "text": [
      "Training Loss: 1.2828833075470267\n",
      "Validation Loss: 1.2280,\n",
      "Validation Accuracy: 0.4833,\n",
      "Precision: 0.3301,\n",
      "Recall: 0.4833,\n",
      "F1 Score: 0.3447\n"
     ]
    },
    {
     "name": "stderr",
     "output_type": "stream",
     "text": [
      "/home/salvatore/.local/lib/python3.10/site-packages/sklearn/metrics/_classification.py:1565: UndefinedMetricWarning: Precision is ill-defined and being set to 0.0 in labels with no predicted samples. Use `zero_division` parameter to control this behavior.\n",
      "  _warn_prf(average, modifier, f\"{metric.capitalize()} is\", len(result))\n"
     ]
    },
    {
     "data": {
      "application/vnd.jupyter.widget-view+json": {
       "model_id": "ca60cf908d6b487e92478edd0c26c21f",
       "version_major": 2,
       "version_minor": 0
      },
      "text/plain": [
       "Epoch 41/100:   0%|          | 0/826 [00:00<?, ?it/s]"
      ]
     },
     "metadata": {},
     "output_type": "display_data"
    },
    {
     "name": "stdout",
     "output_type": "stream",
     "text": [
      "Training Loss: 1.231232939996096\n",
      "Validation Loss: 1.2068,\n",
      "Validation Accuracy: 0.4901,\n",
      "Precision: 0.3675,\n",
      "Recall: 0.4901,\n",
      "F1 Score: 0.3995\n"
     ]
    },
    {
     "name": "stderr",
     "output_type": "stream",
     "text": [
      "/home/salvatore/.local/lib/python3.10/site-packages/sklearn/metrics/_classification.py:1565: UndefinedMetricWarning: Precision is ill-defined and being set to 0.0 in labels with no predicted samples. Use `zero_division` parameter to control this behavior.\n",
      "  _warn_prf(average, modifier, f\"{metric.capitalize()} is\", len(result))\n"
     ]
    },
    {
     "data": {
      "application/vnd.jupyter.widget-view+json": {
       "model_id": "92389002a0374ab68fa221ed276e7684",
       "version_major": 2,
       "version_minor": 0
      },
      "text/plain": [
       "Epoch 42/100:   0%|          | 0/826 [00:00<?, ?it/s]"
      ]
     },
     "metadata": {},
     "output_type": "display_data"
    },
    {
     "name": "stdout",
     "output_type": "stream",
     "text": [
      "Training Loss: 1.1892288980270413\n",
      "Validation Loss: 1.1865,\n",
      "Validation Accuracy: 0.4936,\n",
      "Precision: 0.4413,\n",
      "Recall: 0.4936,\n",
      "F1 Score: 0.4323\n"
     ]
    },
    {
     "data": {
      "application/vnd.jupyter.widget-view+json": {
       "model_id": "d363848d473e496aa8f48a0f6f2c9326",
       "version_major": 2,
       "version_minor": 0
      },
      "text/plain": [
       "Epoch 43/100:   0%|          | 0/826 [00:00<?, ?it/s]"
      ]
     },
     "metadata": {},
     "output_type": "display_data"
    },
    {
     "name": "stdout",
     "output_type": "stream",
     "text": [
      "Training Loss: 1.1541608134713068\n",
      "Validation Loss: 1.1492,\n",
      "Validation Accuracy: 0.5030,\n",
      "Precision: 0.4396,\n",
      "Recall: 0.5030,\n",
      "F1 Score: 0.4426\n"
     ]
    },
    {
     "data": {
      "application/vnd.jupyter.widget-view+json": {
       "model_id": "8cde37aaad7a4e1885d763ce5fa5c9bc",
       "version_major": 2,
       "version_minor": 0
      },
      "text/plain": [
       "Epoch 44/100:   0%|          | 0/826 [00:00<?, ?it/s]"
      ]
     },
     "metadata": {},
     "output_type": "display_data"
    },
    {
     "name": "stdout",
     "output_type": "stream",
     "text": [
      "Training Loss: 1.1292060975878349\n",
      "Validation Loss: 1.1335,\n",
      "Validation Accuracy: 0.5099,\n",
      "Precision: 0.4396,\n",
      "Recall: 0.5099,\n",
      "F1 Score: 0.4485\n"
     ]
    },
    {
     "data": {
      "application/vnd.jupyter.widget-view+json": {
       "model_id": "9198b4aa4fc14abd8c6e43a7eda2158c",
       "version_major": 2,
       "version_minor": 0
      },
      "text/plain": [
       "Epoch 45/100:   0%|          | 0/826 [00:00<?, ?it/s]"
      ]
     },
     "metadata": {},
     "output_type": "display_data"
    },
    {
     "name": "stdout",
     "output_type": "stream",
     "text": [
      "Training Loss: 1.169250444768416\n",
      "Validation Loss: 1.1975,\n",
      "Validation Accuracy: 0.5202,\n",
      "Precision: 0.4170,\n",
      "Recall: 0.5202,\n",
      "F1 Score: 0.4097\n"
     ]
    },
    {
     "data": {
      "application/vnd.jupyter.widget-view+json": {
       "model_id": "50e06cdb36094db9a6d7b792fb6780a6",
       "version_major": 2,
       "version_minor": 0
      },
      "text/plain": [
       "Epoch 46/100:   0%|          | 0/826 [00:00<?, ?it/s]"
      ]
     },
     "metadata": {},
     "output_type": "display_data"
    },
    {
     "name": "stdout",
     "output_type": "stream",
     "text": [
      "Training Loss: 1.21136480389438\n",
      "Validation Loss: 1.1846,\n",
      "Validation Accuracy: 0.5163,\n",
      "Precision: 0.3776,\n",
      "Recall: 0.5163,\n",
      "F1 Score: 0.3822\n"
     ]
    },
    {
     "name": "stderr",
     "output_type": "stream",
     "text": [
      "/home/salvatore/.local/lib/python3.10/site-packages/sklearn/metrics/_classification.py:1565: UndefinedMetricWarning: Precision is ill-defined and being set to 0.0 in labels with no predicted samples. Use `zero_division` parameter to control this behavior.\n",
      "  _warn_prf(average, modifier, f\"{metric.capitalize()} is\", len(result))\n"
     ]
    },
    {
     "data": {
      "application/vnd.jupyter.widget-view+json": {
       "model_id": "69d8f4d4cf484bbbafb6ec9d95cdfccc",
       "version_major": 2,
       "version_minor": 0
      },
      "text/plain": [
       "Epoch 47/100:   0%|          | 0/826 [00:00<?, ?it/s]"
      ]
     },
     "metadata": {},
     "output_type": "display_data"
    },
    {
     "name": "stdout",
     "output_type": "stream",
     "text": [
      "Training Loss: 1.1598254500665042\n",
      "Validation Loss: 1.1294,\n",
      "Validation Accuracy: 0.5056,\n",
      "Precision: 0.3908,\n",
      "Recall: 0.5056,\n",
      "F1 Score: 0.4059\n"
     ]
    },
    {
     "data": {
      "application/vnd.jupyter.widget-view+json": {
       "model_id": "30bb2bfc4f3f46f3a90e4a0a5d1b4647",
       "version_major": 2,
       "version_minor": 0
      },
      "text/plain": [
       "Epoch 48/100:   0%|          | 0/826 [00:00<?, ?it/s]"
      ]
     },
     "metadata": {},
     "output_type": "display_data"
    },
    {
     "name": "stdout",
     "output_type": "stream",
     "text": [
      "Training Loss: 1.090550185620929\n",
      "Validation Loss: 1.1009,\n",
      "Validation Accuracy: 0.5172,\n",
      "Precision: 0.4595,\n",
      "Recall: 0.5172,\n",
      "F1 Score: 0.4656\n"
     ]
    },
    {
     "data": {
      "application/vnd.jupyter.widget-view+json": {
       "model_id": "3d065ef952344c0d8a50b72f7b1d690e",
       "version_major": 2,
       "version_minor": 0
      },
      "text/plain": [
       "Epoch 49/100:   0%|          | 0/826 [00:00<?, ?it/s]"
      ]
     },
     "metadata": {},
     "output_type": "display_data"
    },
    {
     "name": "stdout",
     "output_type": "stream",
     "text": [
      "Training Loss: 1.045813962708951\n",
      "Validation Loss: 1.1066,\n",
      "Validation Accuracy: 0.5052,\n",
      "Precision: 0.4386,\n",
      "Recall: 0.5052,\n",
      "F1 Score: 0.4570\n"
     ]
    },
    {
     "name": "stderr",
     "output_type": "stream",
     "text": [
      "/home/salvatore/.local/lib/python3.10/site-packages/sklearn/metrics/_classification.py:1565: UndefinedMetricWarning: Precision is ill-defined and being set to 0.0 in labels with no predicted samples. Use `zero_division` parameter to control this behavior.\n",
      "  _warn_prf(average, modifier, f\"{metric.capitalize()} is\", len(result))\n"
     ]
    },
    {
     "data": {
      "application/vnd.jupyter.widget-view+json": {
       "model_id": "c2c0bc2cef43490cadefe9d3fe18d397",
       "version_major": 2,
       "version_minor": 0
      },
      "text/plain": [
       "Epoch 50/100:   0%|          | 0/826 [00:00<?, ?it/s]"
      ]
     },
     "metadata": {},
     "output_type": "display_data"
    },
    {
     "name": "stdout",
     "output_type": "stream",
     "text": [
      "Training Loss: 1.0142866648715576\n",
      "Validation Loss: 1.0675,\n",
      "Validation Accuracy: 0.5356,\n",
      "Precision: 0.4907,\n",
      "Recall: 0.5356,\n",
      "F1 Score: 0.4945\n"
     ]
    },
    {
     "data": {
      "application/vnd.jupyter.widget-view+json": {
       "model_id": "fbfc32b81c1c46b6a4fde340c8532294",
       "version_major": 2,
       "version_minor": 0
      },
      "text/plain": [
       "Epoch 51/100:   0%|          | 0/826 [00:00<?, ?it/s]"
      ]
     },
     "metadata": {},
     "output_type": "display_data"
    },
    {
     "name": "stdout",
     "output_type": "stream",
     "text": [
      "Training Loss: 0.9994922865533944\n",
      "Validation Loss: 1.0528,\n",
      "Validation Accuracy: 0.5382,\n",
      "Precision: 0.5000,\n",
      "Recall: 0.5382,\n",
      "F1 Score: 0.4979\n"
     ]
    },
    {
     "data": {
      "application/vnd.jupyter.widget-view+json": {
       "model_id": "52ee8cf562e4444eba6852cfc6bf4413",
       "version_major": 2,
       "version_minor": 0
      },
      "text/plain": [
       "Epoch 52/100:   0%|          | 0/826 [00:00<?, ?it/s]"
      ]
     },
     "metadata": {},
     "output_type": "display_data"
    },
    {
     "name": "stdout",
     "output_type": "stream",
     "text": [
      "Training Loss: 0.965106719414778\n",
      "Validation Loss: 1.0511,\n",
      "Validation Accuracy: 0.5378,\n",
      "Precision: 0.4944,\n",
      "Recall: 0.5378,\n",
      "F1 Score: 0.4930\n"
     ]
    },
    {
     "data": {
      "application/vnd.jupyter.widget-view+json": {
       "model_id": "603b64b8bbd84efbaf95c8d48572c0f0",
       "version_major": 2,
       "version_minor": 0
      },
      "text/plain": [
       "Epoch 53/100:   0%|          | 0/826 [00:00<?, ?it/s]"
      ]
     },
     "metadata": {},
     "output_type": "display_data"
    },
    {
     "name": "stdout",
     "output_type": "stream",
     "text": [
      "Training Loss: 0.9467847079543744\n",
      "Validation Loss: 1.0463,\n",
      "Validation Accuracy: 0.5300,\n",
      "Precision: 0.5304,\n",
      "Recall: 0.5300,\n",
      "F1 Score: 0.5255\n"
     ]
    },
    {
     "data": {
      "application/vnd.jupyter.widget-view+json": {
       "model_id": "2eb9d1b25930440b9b3b78d063f2d9d3",
       "version_major": 2,
       "version_minor": 0
      },
      "text/plain": [
       "Epoch 54/100:   0%|          | 0/826 [00:00<?, ?it/s]"
      ]
     },
     "metadata": {},
     "output_type": "display_data"
    },
    {
     "name": "stdout",
     "output_type": "stream",
     "text": [
      "Training Loss: 0.913231646646599\n",
      "Validation Loss: 1.0304,\n",
      "Validation Accuracy: 0.5519,\n",
      "Precision: 0.5089,\n",
      "Recall: 0.5519,\n",
      "F1 Score: 0.5236\n"
     ]
    },
    {
     "data": {
      "application/vnd.jupyter.widget-view+json": {
       "model_id": "387eea8da73b45f9aa4746b38437e72c",
       "version_major": 2,
       "version_minor": 0
      },
      "text/plain": [
       "Epoch 55/100:   0%|          | 0/826 [00:00<?, ?it/s]"
      ]
     },
     "metadata": {},
     "output_type": "display_data"
    },
    {
     "name": "stdout",
     "output_type": "stream",
     "text": [
      "Training Loss: 0.8879418125597097\n",
      "Validation Loss: 1.0940,\n",
      "Validation Accuracy: 0.5558,\n",
      "Precision: 0.5052,\n",
      "Recall: 0.5558,\n",
      "F1 Score: 0.5083\n"
     ]
    },
    {
     "data": {
      "application/vnd.jupyter.widget-view+json": {
       "model_id": "c4e9dd54fab948cdafcfe52a7e01f53a",
       "version_major": 2,
       "version_minor": 0
      },
      "text/plain": [
       "Epoch 56/100:   0%|          | 0/826 [00:00<?, ?it/s]"
      ]
     },
     "metadata": {},
     "output_type": "display_data"
    },
    {
     "name": "stdout",
     "output_type": "stream",
     "text": [
      "Training Loss: 0.8564207956158797\n",
      "Validation Loss: 1.0273,\n",
      "Validation Accuracy: 0.5601,\n",
      "Precision: 0.5320,\n",
      "Recall: 0.5601,\n",
      "F1 Score: 0.5413\n"
     ]
    },
    {
     "data": {
      "application/vnd.jupyter.widget-view+json": {
       "model_id": "dacd5b647d344dc7bacb295122f82c95",
       "version_major": 2,
       "version_minor": 0
      },
      "text/plain": [
       "Epoch 57/100:   0%|          | 0/826 [00:00<?, ?it/s]"
      ]
     },
     "metadata": {},
     "output_type": "display_data"
    },
    {
     "name": "stdout",
     "output_type": "stream",
     "text": [
      "Training Loss: 0.8340383047919008\n",
      "Validation Loss: 1.0289,\n",
      "Validation Accuracy: 0.5734,\n",
      "Precision: 0.5291,\n",
      "Recall: 0.5734,\n",
      "F1 Score: 0.5347\n"
     ]
    },
    {
     "data": {
      "application/vnd.jupyter.widget-view+json": {
       "model_id": "9c1dde77023f4fd4aef045568ac068eb",
       "version_major": 2,
       "version_minor": 0
      },
      "text/plain": [
       "Epoch 58/100:   0%|          | 0/826 [00:00<?, ?it/s]"
      ]
     },
     "metadata": {},
     "output_type": "display_data"
    },
    {
     "name": "stdout",
     "output_type": "stream",
     "text": [
      "Training Loss: 0.8199691741071082\n",
      "Validation Loss: 1.0506,\n",
      "Validation Accuracy: 0.5768,\n",
      "Precision: 0.5476,\n",
      "Recall: 0.5768,\n",
      "F1 Score: 0.5534\n"
     ]
    },
    {
     "data": {
      "application/vnd.jupyter.widget-view+json": {
       "model_id": "50454e3fd0c14cba918ce1dfe585a056",
       "version_major": 2,
       "version_minor": 0
      },
      "text/plain": [
       "Epoch 59/100:   0%|          | 0/826 [00:00<?, ?it/s]"
      ]
     },
     "metadata": {},
     "output_type": "display_data"
    },
    {
     "name": "stdout",
     "output_type": "stream",
     "text": [
      "Training Loss: 0.7800783370655328\n",
      "Validation Loss: 1.0380,\n",
      "Validation Accuracy: 0.5695,\n",
      "Precision: 0.5572,\n",
      "Recall: 0.5695,\n",
      "F1 Score: 0.5457\n"
     ]
    },
    {
     "data": {
      "application/vnd.jupyter.widget-view+json": {
       "model_id": "5fbeac2cf4214ecf84aa5277cc94618e",
       "version_major": 2,
       "version_minor": 0
      },
      "text/plain": [
       "Epoch 60/100:   0%|          | 0/826 [00:00<?, ?it/s]"
      ]
     },
     "metadata": {},
     "output_type": "display_data"
    },
    {
     "name": "stdout",
     "output_type": "stream",
     "text": [
      "Training Loss: 0.7522976632989925\n",
      "Validation Loss: 1.0425,\n",
      "Validation Accuracy: 0.5833,\n",
      "Precision: 0.5664,\n",
      "Recall: 0.5833,\n",
      "F1 Score: 0.5718\n"
     ]
    },
    {
     "data": {
      "application/vnd.jupyter.widget-view+json": {
       "model_id": "d2412fc9b4ea48dca1738777b17d7283",
       "version_major": 2,
       "version_minor": 0
      },
      "text/plain": [
       "Epoch 61/100:   0%|          | 0/826 [00:00<?, ?it/s]"
      ]
     },
     "metadata": {},
     "output_type": "display_data"
    },
    {
     "name": "stdout",
     "output_type": "stream",
     "text": [
      "Training Loss: 0.731979590134817\n",
      "Validation Loss: 1.0490,\n",
      "Validation Accuracy: 0.5837,\n",
      "Precision: 0.5707,\n",
      "Recall: 0.5837,\n",
      "F1 Score: 0.5741\n"
     ]
    },
    {
     "data": {
      "application/vnd.jupyter.widget-view+json": {
       "model_id": "5380f50d93e04edc891d7b5b911fd345",
       "version_major": 2,
       "version_minor": 0
      },
      "text/plain": [
       "Epoch 62/100:   0%|          | 0/826 [00:00<?, ?it/s]"
      ]
     },
     "metadata": {},
     "output_type": "display_data"
    },
    {
     "name": "stdout",
     "output_type": "stream",
     "text": [
      "Training Loss: 0.6968135384901384\n",
      "Validation Loss: 1.1338,\n",
      "Validation Accuracy: 0.5824,\n",
      "Precision: 0.5704,\n",
      "Recall: 0.5824,\n",
      "F1 Score: 0.5752\n"
     ]
    },
    {
     "data": {
      "application/vnd.jupyter.widget-view+json": {
       "model_id": "01651f091c6248fdb95f3141c5221c6f",
       "version_major": 2,
       "version_minor": 0
      },
      "text/plain": [
       "Epoch 63/100:   0%|          | 0/826 [00:00<?, ?it/s]"
      ]
     },
     "metadata": {},
     "output_type": "display_data"
    },
    {
     "name": "stdout",
     "output_type": "stream",
     "text": [
      "Training Loss: 0.6675207233169177\n",
      "Validation Loss: 1.1061,\n",
      "Validation Accuracy: 0.5961,\n",
      "Precision: 0.5623,\n",
      "Recall: 0.5961,\n",
      "F1 Score: 0.5691\n"
     ]
    },
    {
     "data": {
      "application/vnd.jupyter.widget-view+json": {
       "model_id": "9a1f17bf26484b4a9523365be7053ad8",
       "version_major": 2,
       "version_minor": 0
      },
      "text/plain": [
       "Epoch 64/100:   0%|          | 0/826 [00:00<?, ?it/s]"
      ]
     },
     "metadata": {},
     "output_type": "display_data"
    },
    {
     "name": "stdout",
     "output_type": "stream",
     "text": [
      "Training Loss: 0.6488291766792175\n",
      "Validation Loss: 1.1527,\n",
      "Validation Accuracy: 0.5820,\n",
      "Precision: 0.5805,\n",
      "Recall: 0.5820,\n",
      "F1 Score: 0.5797\n"
     ]
    },
    {
     "data": {
      "application/vnd.jupyter.widget-view+json": {
       "model_id": "90df97158a9748818d7160db9df091fb",
       "version_major": 2,
       "version_minor": 0
      },
      "text/plain": [
       "Epoch 65/100:   0%|          | 0/826 [00:00<?, ?it/s]"
      ]
     },
     "metadata": {},
     "output_type": "display_data"
    },
    {
     "name": "stdout",
     "output_type": "stream",
     "text": [
      "Training Loss: 0.6262752521629772\n",
      "Validation Loss: 1.1684,\n",
      "Validation Accuracy: 0.5820,\n",
      "Precision: 0.5615,\n",
      "Recall: 0.5820,\n",
      "F1 Score: 0.5646\n"
     ]
    },
    {
     "data": {
      "application/vnd.jupyter.widget-view+json": {
       "model_id": "20b29a7bb1654d0c9b7cf05c5e965ac1",
       "version_major": 2,
       "version_minor": 0
      },
      "text/plain": [
       "Epoch 66/100:   0%|          | 0/826 [00:00<?, ?it/s]"
      ]
     },
     "metadata": {},
     "output_type": "display_data"
    },
    {
     "name": "stdout",
     "output_type": "stream",
     "text": [
      "Training Loss: 0.6073359825059808\n",
      "Validation Loss: 1.1487,\n",
      "Validation Accuracy: 0.5867,\n",
      "Precision: 0.5661,\n",
      "Recall: 0.5867,\n",
      "F1 Score: 0.5732\n"
     ]
    },
    {
     "data": {
      "application/vnd.jupyter.widget-view+json": {
       "model_id": "f1956365a444419c8eee5cb8449a95f2",
       "version_major": 2,
       "version_minor": 0
      },
      "text/plain": [
       "Epoch 67/100:   0%|          | 0/826 [00:00<?, ?it/s]"
      ]
     },
     "metadata": {},
     "output_type": "display_data"
    },
    {
     "name": "stdout",
     "output_type": "stream",
     "text": [
      "Training Loss: 0.5739906330121631\n",
      "Validation Loss: 1.2120,\n",
      "Validation Accuracy: 0.5961,\n",
      "Precision: 0.5789,\n",
      "Recall: 0.5961,\n",
      "F1 Score: 0.5841\n"
     ]
    },
    {
     "data": {
      "application/vnd.jupyter.widget-view+json": {
       "model_id": "5d557825fdf54ea982f30d114cec46d2",
       "version_major": 2,
       "version_minor": 0
      },
      "text/plain": [
       "Epoch 68/100:   0%|          | 0/826 [00:00<?, ?it/s]"
      ]
     },
     "metadata": {},
     "output_type": "display_data"
    },
    {
     "name": "stdout",
     "output_type": "stream",
     "text": [
      "Training Loss: 0.5526293838175677\n",
      "Validation Loss: 1.2191,\n",
      "Validation Accuracy: 0.5948,\n",
      "Precision: 0.5809,\n",
      "Recall: 0.5948,\n",
      "F1 Score: 0.5837\n"
     ]
    },
    {
     "data": {
      "application/vnd.jupyter.widget-view+json": {
       "model_id": "83d72995704d446f9cd47c08f30dba7d",
       "version_major": 2,
       "version_minor": 0
      },
      "text/plain": [
       "Epoch 69/100:   0%|          | 0/826 [00:00<?, ?it/s]"
      ]
     },
     "metadata": {},
     "output_type": "display_data"
    },
    {
     "name": "stdout",
     "output_type": "stream",
     "text": [
      "Training Loss: 0.5240113277881255\n",
      "Validation Loss: 1.2055,\n",
      "Validation Accuracy: 0.5927,\n",
      "Precision: 0.5750,\n",
      "Recall: 0.5927,\n",
      "F1 Score: 0.5782\n"
     ]
    },
    {
     "data": {
      "application/vnd.jupyter.widget-view+json": {
       "model_id": "2994655981374eb08d21f3b7427e1a15",
       "version_major": 2,
       "version_minor": 0
      },
      "text/plain": [
       "Epoch 70/100:   0%|          | 0/826 [00:00<?, ?it/s]"
      ]
     },
     "metadata": {},
     "output_type": "display_data"
    },
    {
     "name": "stdout",
     "output_type": "stream",
     "text": [
      "Training Loss: 0.513006250231953\n",
      "Validation Loss: 1.2522,\n",
      "Validation Accuracy: 0.5837,\n",
      "Precision: 0.5732,\n",
      "Recall: 0.5837,\n",
      "F1 Score: 0.5749\n"
     ]
    },
    {
     "data": {
      "application/vnd.jupyter.widget-view+json": {
       "model_id": "8b027aca151a425b9324c3e59b956aca",
       "version_major": 2,
       "version_minor": 0
      },
      "text/plain": [
       "Epoch 71/100:   0%|          | 0/826 [00:00<?, ?it/s]"
      ]
     },
     "metadata": {},
     "output_type": "display_data"
    },
    {
     "name": "stdout",
     "output_type": "stream",
     "text": [
      "Training Loss: 0.4993171602054601\n",
      "Validation Loss: 1.2258,\n",
      "Validation Accuracy: 0.6004,\n",
      "Precision: 0.5876,\n",
      "Recall: 0.6004,\n",
      "F1 Score: 0.5905\n"
     ]
    },
    {
     "data": {
      "application/vnd.jupyter.widget-view+json": {
       "model_id": "552f3977dcdc4ceda20ad081c45466f9",
       "version_major": 2,
       "version_minor": 0
      },
      "text/plain": [
       "Epoch 72/100:   0%|          | 0/826 [00:00<?, ?it/s]"
      ]
     },
     "metadata": {},
     "output_type": "display_data"
    },
    {
     "name": "stdout",
     "output_type": "stream",
     "text": [
      "Training Loss: 0.4863304796630909\n",
      "Validation Loss: 1.2508,\n",
      "Validation Accuracy: 0.5914,\n",
      "Precision: 0.5734,\n",
      "Recall: 0.5914,\n",
      "F1 Score: 0.5781\n"
     ]
    },
    {
     "data": {
      "application/vnd.jupyter.widget-view+json": {
       "model_id": "91c1443ae1fb48e5b3b22775811aeb75",
       "version_major": 2,
       "version_minor": 0
      },
      "text/plain": [
       "Epoch 73/100:   0%|          | 0/826 [00:00<?, ?it/s]"
      ]
     },
     "metadata": {},
     "output_type": "display_data"
    },
    {
     "name": "stdout",
     "output_type": "stream",
     "text": [
      "Training Loss: 0.4848149161939182\n",
      "Validation Loss: 1.3472,\n",
      "Validation Accuracy: 0.5833,\n",
      "Precision: 0.5752,\n",
      "Recall: 0.5833,\n",
      "F1 Score: 0.5785\n"
     ]
    },
    {
     "data": {
      "application/vnd.jupyter.widget-view+json": {
       "model_id": "fa4527be14e44849a660e6f3dcf31aa6",
       "version_major": 2,
       "version_minor": 0
      },
      "text/plain": [
       "Epoch 74/100:   0%|          | 0/826 [00:00<?, ?it/s]"
      ]
     },
     "metadata": {},
     "output_type": "display_data"
    },
    {
     "name": "stdout",
     "output_type": "stream",
     "text": [
      "Training Loss: 0.4773404004174052\n",
      "Validation Loss: 1.2743,\n",
      "Validation Accuracy: 0.5948,\n",
      "Precision: 0.5732,\n",
      "Recall: 0.5948,\n",
      "F1 Score: 0.5755\n"
     ]
    },
    {
     "data": {
      "application/vnd.jupyter.widget-view+json": {
       "model_id": "bb17f48d89754826a2ba469d7b6093cc",
       "version_major": 2,
       "version_minor": 0
      },
      "text/plain": [
       "Epoch 75/100:   0%|          | 0/826 [00:00<?, ?it/s]"
      ]
     },
     "metadata": {},
     "output_type": "display_data"
    },
    {
     "name": "stdout",
     "output_type": "stream",
     "text": [
      "Training Loss: 0.4523428576946547\n",
      "Validation Loss: 1.3039,\n",
      "Validation Accuracy: 0.5893,\n",
      "Precision: 0.5632,\n",
      "Recall: 0.5893,\n",
      "F1 Score: 0.5627\n"
     ]
    },
    {
     "data": {
      "application/vnd.jupyter.widget-view+json": {
       "model_id": "6f30d41a520144c69f61fbfa2ffbf2b2",
       "version_major": 2,
       "version_minor": 0
      },
      "text/plain": [
       "Epoch 76/100:   0%|          | 0/826 [00:00<?, ?it/s]"
      ]
     },
     "metadata": {},
     "output_type": "display_data"
    },
    {
     "name": "stdout",
     "output_type": "stream",
     "text": [
      "Training Loss: 0.4898607957810524\n",
      "Validation Loss: 1.3020,\n",
      "Validation Accuracy: 0.5991,\n",
      "Precision: 0.5790,\n",
      "Recall: 0.5991,\n",
      "F1 Score: 0.5842\n",
      "Early stopping triggered after 76 epochs\n"
     ]
    },
    {
     "data": {
      "image/png": "[encoded data removed]",
      "text/plain": [
       "<Figure size 640x480 with 1 Axes>"
      ]
     },
     "metadata": {},
     "output_type": "display_data"
    }
   ],
   "source": [
    "model = LSTMClassifier(vocab_size=len(vocab), embed_dim=128, hidden_dim=128, output_dim=5)\n",
    "model.to(device)\n",
    "\n",
    "# Train the LSTM model\n",
    "train_model(model, train_loader_lstm, val_loader_lstm, num_epochs=100, plot=True)"
   ]
  },
  {
   "cell_type": "code",
   "execution_count": null,
   "id": "9e742ed5",
   "metadata": {},
   "outputs": [
    {
     "data": {
      "application/vnd.jupyter.widget-view+json": {
       "model_id": "d0c70d7b538c4d16947b5318cb4cf526",
       "version_major": 2,
       "version_minor": 0
      },
      "text/plain": [
       "Evaluating:   0%|          | 0/86 [00:00<?, ?it/s]"
      ]
     },
     "metadata": {},
     "output_type": "display_data"
    },
    {
     "name": "stdout",
     "output_type": "stream",
     "text": [
      "Accuracy: 0.5721\n",
      "Precision: 0.5537, Recall: 0.5721, F1 Score: 0.5595\n",
      "Classification Report:\n",
      "              precision    recall  f1-score   support\n",
      "\n",
      "           0       0.63      0.58      0.60       209\n",
      "           1       0.36      0.31      0.34       226\n",
      "           2       0.35      0.30      0.33       287\n",
      "           3       0.47      0.40      0.43       812\n",
      "           4       0.68      0.80      0.74      1207\n",
      "\n",
      "    accuracy                           0.57      2741\n",
      "   macro avg       0.50      0.48      0.49      2741\n",
      "weighted avg       0.55      0.57      0.56      2741\n",
      "\n"
     ]
    },
    {
     "data": {
      "application/vnd.jupyter.widget-view+json": {
       "model_id": "1dc860fc216b47709bf52fb3b31d71c9",
       "version_major": 2,
       "version_minor": 0
      },
      "text/plain": [
       "Evaluating:   0%|          | 0/86 [00:00<?, ?it/s]"
      ]
     },
     "metadata": {},
     "output_type": "display_data"
    },
    {
     "name": "stdout",
     "output_type": "stream",
     "text": [
      "Accuracy: 0.8336\n",
      "Precision: 0.8236, Recall: 0.8336, F1 Score: 0.8277\n",
      "Classification Report:\n",
      "              precision    recall  f1-score   support\n",
      "\n",
      "    Negative       0.78      0.70      0.74       435\n",
      "     Neutral       0.35      0.30      0.33       287\n",
      "    Positive       0.90      0.94      0.92      2019\n",
      "\n",
      "    accuracy                           0.83      2741\n",
      "   macro avg       0.68      0.65      0.66      2741\n",
      "weighted avg       0.82      0.83      0.83      2741\n",
      "\n"
     ]
    },
    {
     "data": {
      "text/plain": [
       "(0.8336373586282378,\n",
       " 0.8236211906772468,\n",
       " 0.8336373586282378,\n",
       " 0.8277032656378208)"
      ]
     },
     "execution_count": 23,
     "metadata": {},
     "output_type": "execute_result"
    },
    {
     "data": {
      "image/png": "[encoded data removed]",
      "text/plain": [
       "<Figure size 640x480 with 2 Axes>"
      ]
     },
     "metadata": {},
     "output_type": "display_data"
    },
    {
     "data": {
      "image/png": "[encoded data removed]",
      "text/plain": [
       "<Figure size 640x480 with 2 Axes>"
      ]
     },
     "metadata": {},
     "output_type": "display_data"
    }
   ],
   "source": [
    "evaluate_model(model, test_loader_lstm)\n",
    "evaluate_model_as_sentiment(model, test_loader_lstm)"
   ]
  }
 ],
 "metadata": {
  "kernelspec": {
   "display_name": "Python 3",
   "language": "python",
   "name": "python3"
  },
  "language_info": {
   "codemirror_mode": {
    "name": "ipython",
    "version": 3
   },
   "file_extension": ".py",
   "mimetype": "text/x-python",
   "name": "python",
   "nbconvert_exporter": "python",
   "pygments_lexer": "ipython3",
   "version": "3.10.12"
  }
 },
 "nbformat": 4,
 "nbformat_minor": 5
}
